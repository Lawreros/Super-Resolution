{
 "cells": [
  {
   "cell_type": "markdown",
   "metadata": {},
   "source": [
    "# [Convolutional Neural Networks with Intermediate Loss for 3D Super-Resolution of CT and MRI Scans](https://arxiv.org/abs/2001.01330)"
   ]
  },
  {
   "cell_type": "markdown",
   "metadata": {},
   "source": [
    "This notebook is a replication/exploration of the paper linked above. Data was tested on the ABIDEII-BNI1 anatomical scans (subjects 29006 - 29011 for training, 29012 - 29015 for testing). This data can be found [here](http://fcon_1000.projects.nitrc.org/indi/abide/abide_II.html) in the Barrow Neurological Institute `Scan Data` link."
   ]
  },
  {
   "cell_type": "markdown",
   "metadata": {},
   "source": [
    "### Imports\n",
    "Like all good python scripts, we import a couple libraries. Note the importing of my own custom class `SrGen` for data loading/saving/organization. That is also in this repository, see the `/gen_utils/SrGen.py` for the source code."
   ]
  },
  {
   "cell_type": "code",
   "execution_count": 3,
   "metadata": {},
   "outputs": [],
   "source": [
    "import torch\n",
    "import torch.nn as nn\n",
    "# import torch.nn.functional as F\n",
    "import torch.optim as optim\n",
    "import os\n",
    "import numpy as np\n",
    "from skimage.transform import resize\n",
    "import matplotlib.pyplot as plt\n",
    "import sys\n",
    "from tqdm import tqdm\n",
    "import time\n",
    "sys.path.append('..') # Stupid thing Python makes you do to import from a sibling directory\n",
    "from gen_utils.SrGen import SrGen # Custom class for image generation"
   ]
  },
  {
   "cell_type": "markdown",
   "metadata": {},
   "source": [
    "## Define model\n",
    "Okay, the model described in the paper is actually quite easy to implement. They essentially are performing 3D SR through 2D SR across two different axes. In this case I label these axes `'hw'` and `'h' or 'w'`. You will see later how I use my custom `SrGen` class to convert a 3D MRI image into a collection of 2D images along different axes.\n",
    "For instantiating this model, when `axs = 'hw'` you wish to have a model which takes a given 2D matrix (a slice of the MRI) and double the height and width. For `axs = 'h'` you wish to double the height (number of rows), and for `axs = 'w'` you wish to double the width (number of columns).\n",
    "\n",
    "Note: This model only does 2x increase in resolution. If you wish to change the magnification you will have to change the number of output layers in `self.conv6` and `self.conv10`. You may also have to change the code in the `kern_upscale` method (haven't tested if it holds up)."
   ]
  },
  {
   "cell_type": "code",
   "execution_count": 5,
   "metadata": {},
   "outputs": [],
   "source": [
    "class CNNIL(nn.Module):\n",
    "    def __init__(self, upscale=2, axs = 'hw'):\n",
    "        super().__init__()\n",
    "        self.axs = axs\n",
    "\n",
    "        self.rel = nn.ReLU()\n",
    "        if axs == 'hw':\n",
    "            self.conv1 = nn.Conv2d(1,32,3, padding='same', bias=False)\n",
    "            self.conv2 = nn.Conv2d(32,32,3, padding='same', bias=False)\n",
    "            self.conv3 = nn.Conv2d(32,32,3, padding='same', bias=False)\n",
    "            self.conv4 = nn.Conv2d(32,32,3, padding='same', bias=False)\n",
    "            self.conv5 = nn.Conv2d(32,32,3, padding='same', bias=False)\n",
    "            self.conv6 = nn.Conv2d(32,4,3, padding='same', bias=False)\n",
    "            \n",
    "            # Upscale step occurs here\n",
    "\n",
    "            self.conv7 = nn.Conv2d(1,32,3, padding='same', bias=False)\n",
    "            self.conv8 = nn.Conv2d(32,32,3, padding='same', bias=False)\n",
    "            self.conv9 = nn.Conv2d(32,32,3, padding='same', bias=False)\n",
    "            self.conv10 = nn.Conv2d(32,1,3, padding='same', bias = False)\n",
    "        elif axs == 'h' or axs == 'w':\n",
    "            self.conv1 = nn.Conv2d(1,32,3, padding='same', bias=False)\n",
    "            self.conv2 = nn.Conv2d(32,32,3, padding='same', bias=False)\n",
    "            self.conv3 = nn.Conv2d(32,32,3, padding='same', bias=False)\n",
    "            self.conv4 = nn.Conv2d(32,32,3, padding='same', bias=False)\n",
    "            self.conv5 = nn.Conv2d(32,32,3, padding='same', bias=False)\n",
    "            self.conv6 = nn.Conv2d(32,2,3, padding='same', bias=False)\n",
    "            \n",
    "            # Upscale step occurs here\n",
    "\n",
    "            self.conv7 = nn.Conv2d(1,32,3, padding='same', bias=False)\n",
    "            self.conv8 = nn.Conv2d(32,32,3, padding='same', bias=False)\n",
    "            self.conv9 = nn.Conv2d(32,32,3, padding='same', bias=False)\n",
    "            self.conv10 = nn.Conv2d(32,1,3, padding='same', bias = False)\n",
    "\n",
    "    def forward(self, x):\n",
    "\n",
    "        x = self.rel(self.conv1(x))\n",
    "        \n",
    "        x_l = self.rel(self.conv2(x))\n",
    "        x_l = self.rel(self.conv3(x_l))\n",
    "        x_l = self.rel(self.conv4(x_l+x))\n",
    "        x_l = self.rel(self.conv5(x_l))\n",
    "        x_l = self.rel(self.conv6(x_l+x))\n",
    "\n",
    "        x_l = self.kern_upscale(x_l, axs = self.axs)\n",
    "\n",
    "        x = self.rel(self.conv7(x_l))\n",
    "        x_h = self.rel(self.conv8(x))\n",
    "        x_h = self.rel(self.conv9(x_h))\n",
    "        x_h = self.rel(self.conv10(x_h+x))\n",
    "\n",
    "        return x_l, x_h #Return both results for the loss function\n",
    "\n",
    "    @staticmethod\n",
    "    def kern_upscale(x, axs='hw'):\n",
    "        # Function to do the unique upscaling pattern they propose in\n",
    "        # the paper\n",
    "        s, c, h, w = [int(_) for _ in list(x.shape)]\n",
    "\n",
    "        if axs == 'hw':\n",
    "            c = int(c/2)\n",
    "\n",
    "            b = torch.cat(torch.unbind(x,1),2)\n",
    "            b = torch.reshape(b,(s,1,h*c,w*c))\n",
    "            b = torch.transpose(b,2,3)\n",
    "            b = torch.cat(torch.split(b,h,2),3)\n",
    "            b = torch.reshape(b,(s,1,h*c,w*c))\n",
    "            x_up = torch.transpose(b,2,3)\n",
    "\n",
    "        elif axs == 'h':\n",
    "            x_up = torch.unsqueeze(torch.cat(torch.unbind(x,2),1),1)\n",
    "            #x_up = torch.unsqueeze(x_up,0)\n",
    "        elif axs == 'w':\n",
    "            x_up = torch.cat(torch.unbind(x,3),1)\n",
    "            x_up = torch.unsqueeze(torch.transpose(x_up,1,2),1)\n",
    "            #x_up = torch.unsqueeze(x_up,0)\n",
    "        else:\n",
    "            print('No valid scaling dimension selected, returning False')\n",
    "            x_up = False\n",
    "\n",
    "        return x_up\n"
   ]
  },
  {
   "cell_type": "markdown",
   "metadata": {},
   "source": [
    "The below cell is for playing around with the methods described in the `kern_upscale` method, with an example 4D matrix in the same form the Pytorch uses."
   ]
  },
  {
   "cell_type": "code",
   "execution_count": 141,
   "metadata": {},
   "outputs": [
    {
     "name": "stdout",
     "output_type": "stream",
     "text": [
      "shape of a is torch.Size([1, 4, 3, 3])\n"
     ]
    },
    {
     "data": {
      "text/plain": [
       "torch.Size([1, 1, 6, 6])"
      ]
     },
     "execution_count": 141,
     "metadata": {},
     "output_type": "execute_result"
    }
   ],
   "source": [
    "# Testing of above kern_upscale function with 4D tensor (what the model will acually use)\n",
    "a = torch.tensor([[[[1,2,0.1],[3,4,0.2],[0.3,0.4,0.5]],\n",
    "                [[5,6,6.1],[7,8,6.2],[0.6,0.7,0.8]],\n",
    "                [[9,10,6.3],[11,12,6.4],[0.9,1.1,1.2]],\n",
    "                [[13,14,6.5],[15,16,6.6],[1.3,1.4,1.5]]]])\n",
    "print(f'shape of a is {a.shape}')\n",
    "\n",
    "b = torch.cat(torch.unbind(a,1),2)\n",
    "b = torch.reshape(b,(1,1,6,6))\n",
    "b = torch.transpose(b,2,3)\n",
    "b = torch.cat(torch.split(b,3,2),3)\n",
    "b = torch.reshape(b,(1,1,6,6))\n",
    "b = torch.transpose(b,2,3)\n",
    "\n",
    "# b = torch.transpose(b,2,3)\n",
    "# b = torch.cat(torch.split(b,2,2),3)\n",
    "# b = torch.transpose(torch.reshape(b,(1,1,6,6)),2,3)\n",
    "b.shape"
   ]
  },
  {
   "cell_type": "markdown",
   "metadata": {},
   "source": [
    "## Set Optimization Parameters\n",
    "Now that we have the model defined, we can instantiate it as the first block (`net_1`) and second block (`net_2`) of the CNN pipeline. I also define `intermediate_loss`, which is the loss function they discuss in the paper. They use the resulting images after the upscaling step and the final output to calculate loss in comparison to the \"true\" high resolution image."
   ]
  },
  {
   "cell_type": "code",
   "execution_count": 6,
   "metadata": {},
   "outputs": [],
   "source": [
    "net_1 = CNNIL(axs = 'hw')\n",
    "net_2 = CNNIL(axs = 'w')\n",
    "\n",
    "# \"... trained the CNN for 40 epochs, starting with a learning rate of 0.001 and decreasing\n",
    "# the learning rate to 0.0001 after the first 20 epochs\"\n",
    "optimizer_1 = optim.Adam(net_1.parameters(), lr=0.001)\n",
    "optimizer_2 = optim.Adam(net_2.parameters(), lr=0.001)\n",
    "\n",
    "# They have a custom loss function that incorporates the final results and the result\n",
    "# right after the upscaling step\n",
    "# https://discuss.pytorch.org/t/custom-loss-functions/29387\n",
    "\n",
    "def intermediate_loss(output_intermediate, output_final, target):\n",
    "    mae_loss = nn.L1Loss() #Built in mean absolute error loss function\n",
    "    loss = mae_loss(output_intermediate, target)+mae_loss(output_final, target)\n",
    "    return loss\n"
   ]
  },
  {
   "cell_type": "markdown",
   "metadata": {},
   "source": [
    "## Generate Data for Training\n",
    "This is where I get to show off my custom class for creating the 2D image patches used in training."
   ]
  },
  {
   "cell_type": "code",
   "execution_count": 176,
   "metadata": {},
   "outputs": [
    {
     "name": "stdout",
     "output_type": "stream",
     "text": [
      "HR and LR file locations updated\n"
     ]
    }
   ],
   "source": [
    "sr_train_1 = SrGen('../data/CNNIL_nifti/Raw_train/','../data/CNNIL_nifti/HR_train_1/','../data/CNNIL_nifti/LR_train_1/')\n",
    "\n",
    "temp = sr_train_1.get_template()\n",
    "temp['out_type'] = 'nii'\n",
    "temp['resolution'] = [2,2,1]\n",
    "temp['translation'] = [0, 0, 0]\n",
    "temp['rotation'] = [0, 0, 0]\n",
    "temp['keep_blank'] = False\n",
    "temp['same_size'] = False\n",
    "temp['patch'] = [14,14,1] #[x,y,z] when looking at the brain from the top down\n",
    "temp['step'] = [12,12,4]\n",
    "sr_train_1.set_template(temp)\n",
    "\n",
    "# sr_train_1.run(clear=True, save=True)\n",
    "sr_train_1.match_altered(update=True, paths=False, sort=False)"
   ]
  },
  {
   "cell_type": "code",
   "execution_count": 177,
   "metadata": {},
   "outputs": [
    {
     "name": "stdout",
     "output_type": "stream",
     "text": [
      "HR and LR file locations updated\n"
     ]
    }
   ],
   "source": [
    "sr_train_2 = SrGen('../data/CNNIL_nifti/Raw_train/','../data/CNNIL_nifti/HR_train_2/','../data/CNNIL_nifti/LR_train_2/')\n",
    "temp = sr_train_2.get_template()\n",
    "temp['out_type'] = 'nii'\n",
    "temp['resolution'] = [1,1,2]\n",
    "temp['translation'] = [0, 0, 0]\n",
    "temp['rotation'] = [0, 0, 0]\n",
    "# temp['scale']= [1,1,1]\n",
    "temp['keep_blank'] = False\n",
    "temp['same_size'] = False\n",
    "temp['patch'] = [1,7,14] #[x,y,z] when looking at the brain from the top down\n",
    "temp['step'] = [4,6,12]\n",
    "sr_train_2.set_template(temp)\n",
    "\n",
    "# sr_train_2.run(clear=True, save=True)\n",
    "sr_train_2.match_altered(update=True, paths=False, sort=False)"
   ]
  },
  {
   "cell_type": "markdown",
   "metadata": {},
   "source": [
    "# Create Dataloader\n",
    "Now we create a Pytorch `Dataset`. Once again, my custom class makes this easier with the `load_image_pair` method, which will output the matched HR and LR images as numpy arrays."
   ]
  },
  {
   "cell_type": "code",
   "execution_count": 7,
   "metadata": {},
   "outputs": [],
   "source": [
    "class Dataset(torch.utils.data.Dataset):\n",
    "    def __init__(self, sr_class, axs='hw'):\n",
    "        self.sr_class = sr_class\n",
    "        self.axs = axs\n",
    "\n",
    "        # In case I forget to run match_altered before pulling the class\n",
    "        if not sr_class.HR_files:\n",
    "            sr_class.match_altered(update=True)\n",
    "\n",
    "    def __len__(self):\n",
    "        return len(self.sr_class.HR_files)\n",
    "\n",
    "    def __getitem__(self, index):\n",
    "        Y, X = self.sr_class.load_image_pair(index)\n",
    "\n",
    "        # SR along two axes\n",
    "        if self.axs == 'hw':\n",
    "            X = torch.unsqueeze(torch.squeeze(torch.tensor(X, dtype=torch.float32),-1),0)\n",
    "            Y = torch.unsqueeze(torch.squeeze(torch.tensor(Y, dtype=torch.float32),-1),0)\n",
    "\n",
    "        # SR along one axis\n",
    "        elif self.axs == 'h':\n",
    "            X = torch.tensor(X, dtype=torch.float32)\n",
    "            Y = torch.tensor(Y, dtype=torch.float32)\n",
    "        elif self.axs == 'w':\n",
    "            X = torch.tensor(X, dtype=torch.float32)\n",
    "            Y = torch.tensor(Y, dtype=torch.float32)\n",
    "        else:\n",
    "            raise NotImplementedError(f'Super resolution along {self.axs} currently not supported')\n",
    "            \n",
    "        return X,Y"
   ]
  },
  {
   "cell_type": "markdown",
   "metadata": {},
   "source": [
    "## Create Dataloader for Training"
   ]
  },
  {
   "cell_type": "code",
   "execution_count": 183,
   "metadata": {},
   "outputs": [],
   "source": [
    "params = {'batch_size': 128,\n",
    "        'shuffle': True,\n",
    "        'num_workers': 2}\n",
    "\n",
    "training_set_1 = Dataset(sr_train_1, axs = 'hw')\n",
    "training_generator_1 = torch.utils.data.DataLoader(training_set_1, **params)\n",
    "\n",
    "\n",
    "training_set_2 = Dataset(sr_train_2, axs = 'w')\n",
    "training_generator_2 = torch.utils.data.DataLoader(training_set_2, **params)"
   ]
  },
  {
   "cell_type": "markdown",
   "metadata": {},
   "source": [
    "# Training Loop"
   ]
  },
  {
   "cell_type": "code",
   "execution_count": 184,
   "metadata": {},
   "outputs": [
    {
     "name": "stdout",
     "output_type": "stream",
     "text": [
      "CNNIL_2 : epoch 36, loss mean: 4.573669735019354, loss: 3.8974220752716064-5.66921329498291\n"
     ]
    },
    {
     "name": "stderr",
     "output_type": "stream",
     "text": [
      " 92%|█████████▎| 37/40 [34:10<02:45, 55.32s/it]"
     ]
    },
    {
     "name": "stdout",
     "output_type": "stream",
     "text": [
      "CNNIL_2 : epoch 37, loss mean: 4.560485342340288, loss: 3.8129186630249023-5.42573356628418\n"
     ]
    },
    {
     "name": "stderr",
     "output_type": "stream",
     "text": [
      " 95%|█████████▌| 38/40 [35:22<02:00, 60.12s/it]"
     ]
    },
    {
     "name": "stdout",
     "output_type": "stream",
     "text": [
      "CNNIL_2 : epoch 38, loss mean: 4.566803450816278, loss: 3.787445545196533-5.4450225830078125\n"
     ]
    },
    {
     "name": "stderr",
     "output_type": "stream",
     "text": [
      " 98%|█████████▊| 39/40 [36:43<01:06, 66.37s/it]"
     ]
    },
    {
     "name": "stdout",
     "output_type": "stream",
     "text": [
      "CNNIL_2 : epoch 39, loss mean: 4.556925632484871, loss: 3.753783702850342-5.277474403381348\n"
     ]
    },
    {
     "name": "stderr",
     "output_type": "stream",
     "text": [
      "100%|██████████| 40/40 [37:56<00:00, 56.90s/it]\n"
     ]
    }
   ],
   "source": [
    "max_epochs = 40\n",
    "save_rate = 10\n",
    "epoch_adjust = 0\n",
    "save_prefix = \"./CNNIL_save\"\n",
    "\n",
    "mean_loss = {'CNNIL_1': [],\n",
    "            'CNNIL_2':[]}\n",
    "\n",
    "for epoch in tqdm(range(max_epochs)):\n",
    "    losses = []\n",
    "\n",
    "    # Training\n",
    "    count = 0\n",
    "    for inp, goal in training_generator_1:\n",
    "        optimizer_1.zero_grad()\n",
    "\n",
    "        output_1, output_2 = net_1(inp) # the 2 is the number of iterations in the LISTA network\n",
    "\n",
    "        loss = intermediate_loss(output_1,output_2,goal)\n",
    "        loss.backward()\n",
    "        optimizer_1.step()\n",
    "        losses.append(loss.item())\n",
    "        count = count+1\n",
    "    \n",
    "\n",
    "    if (epoch % save_rate == 0) or epoch == (max_epochs-1):\n",
    "        torch.save(net_1.state_dict(), f'{save_prefix}_network1_{epoch+epoch_adjust}.p')\n",
    "    print(f'CNNIL_1 : epoch {epoch}, loss mean: {sum(losses)/len(losses)}, loss: {min(losses)}-{max(losses)}')\n",
    "    mean_loss[\"CNNIL_1\"].append(sum(losses)/len(losses))\n",
    "\n",
    "    # Give computer time to cool down\n",
    "    time.sleep(10)\n",
    "\n",
    "\n",
    "for epoch in tqdm(range(max_epochs)):\n",
    "    losses = []\n",
    "\n",
    "    # Training\n",
    "    count = 0\n",
    "    for inp, goal in training_generator_2:\n",
    "        optimizer_2.zero_grad()\n",
    "\n",
    "        output_1, output_2 = net_2(inp) # the 2 is the number of iterations in the LISTA network\n",
    "\n",
    "        loss = intermediate_loss(output_1,output_2,goal)\n",
    "        loss.backward()\n",
    "        optimizer_2.step()\n",
    "        losses.append(loss.item())\n",
    "        count = count+1\n",
    "    \n",
    "\n",
    "    if (epoch % save_rate == 0) or epoch == (max_epochs-1):\n",
    "        torch.save(net_2.state_dict(), f'{save_prefix}_network2_{epoch+epoch_adjust}.p')\n",
    "    print(f'CNNIL_2 : epoch {epoch}, loss mean: {sum(losses)/len(losses)}, loss: {min(losses)}-{max(losses)}')\n",
    "    mean_loss[\"CNNIL_2\"].append(sum(losses)/len(losses))\n",
    "\n",
    "    # Give computer time to cool down\n",
    "    time.sleep(10)\n"
   ]
  },
  {
   "cell_type": "markdown",
   "metadata": {},
   "source": [
    "### Sanity Check\n",
    "Let's plot the mean loss values for each epoch to make sure that they are going down"
   ]
  },
  {
   "cell_type": "code",
   "execution_count": 20,
   "metadata": {},
   "outputs": [
    {
     "ename": "NameError",
     "evalue": "name 'mean_loss' is not defined",
     "output_type": "error",
     "traceback": [
      "\u001b[0;31m---------------------------------------------------------------------------\u001b[0m",
      "\u001b[0;31mNameError\u001b[0m                                 Traceback (most recent call last)",
      "\u001b[0;32m<ipython-input-20-18b367b26cb9>\u001b[0m in \u001b[0;36m<module>\u001b[0;34m\u001b[0m\n\u001b[1;32m      2\u001b[0m \u001b[0;34m\u001b[0m\u001b[0m\n\u001b[1;32m      3\u001b[0m \u001b[0mfig\u001b[0m\u001b[0;34m,\u001b[0m \u001b[0maxs\u001b[0m \u001b[0;34m=\u001b[0m \u001b[0mplt\u001b[0m\u001b[0;34m.\u001b[0m\u001b[0msubplots\u001b[0m\u001b[0;34m(\u001b[0m\u001b[0;36m1\u001b[0m\u001b[0;34m,\u001b[0m \u001b[0;36m2\u001b[0m\u001b[0;34m)\u001b[0m\u001b[0;34m\u001b[0m\u001b[0;34m\u001b[0m\u001b[0m\n\u001b[0;32m----> 4\u001b[0;31m \u001b[0maxs\u001b[0m\u001b[0;34m[\u001b[0m\u001b[0;36m0\u001b[0m\u001b[0;34m]\u001b[0m\u001b[0;34m.\u001b[0m\u001b[0mplot\u001b[0m\u001b[0;34m(\u001b[0m\u001b[0;34m[\u001b[0m\u001b[0mx\u001b[0m \u001b[0;32mfor\u001b[0m \u001b[0mx\u001b[0m \u001b[0;32min\u001b[0m \u001b[0mrange\u001b[0m\u001b[0;34m(\u001b[0m\u001b[0mlen\u001b[0m\u001b[0;34m(\u001b[0m\u001b[0mmean_loss\u001b[0m\u001b[0;34m[\u001b[0m\u001b[0;34m\"CNNIL_1\"\u001b[0m\u001b[0;34m]\u001b[0m\u001b[0;34m)\u001b[0m\u001b[0;34m)\u001b[0m\u001b[0;34m]\u001b[0m\u001b[0;34m,\u001b[0m\u001b[0mmean_loss\u001b[0m\u001b[0;34m[\u001b[0m\u001b[0;34m\"CNNIL_1\"\u001b[0m\u001b[0;34m]\u001b[0m\u001b[0;34m)\u001b[0m\u001b[0;34m\u001b[0m\u001b[0;34m\u001b[0m\u001b[0m\n\u001b[0m\u001b[1;32m      5\u001b[0m \u001b[0maxs\u001b[0m\u001b[0;34m[\u001b[0m\u001b[0;36m1\u001b[0m\u001b[0;34m]\u001b[0m\u001b[0;34m.\u001b[0m\u001b[0mplot\u001b[0m\u001b[0;34m(\u001b[0m\u001b[0;34m[\u001b[0m\u001b[0mx\u001b[0m \u001b[0;32mfor\u001b[0m \u001b[0mx\u001b[0m \u001b[0;32min\u001b[0m \u001b[0mrange\u001b[0m\u001b[0;34m(\u001b[0m\u001b[0mlen\u001b[0m\u001b[0;34m(\u001b[0m\u001b[0mmean_loss\u001b[0m\u001b[0;34m[\u001b[0m\u001b[0;34m\"CNNIL_2\"\u001b[0m\u001b[0;34m]\u001b[0m\u001b[0;34m)\u001b[0m\u001b[0;34m)\u001b[0m\u001b[0;34m]\u001b[0m\u001b[0;34m,\u001b[0m\u001b[0mmean_loss\u001b[0m\u001b[0;34m[\u001b[0m\u001b[0;34m\"CNNIL_2\"\u001b[0m\u001b[0;34m]\u001b[0m\u001b[0;34m)\u001b[0m\u001b[0;34m\u001b[0m\u001b[0;34m\u001b[0m\u001b[0m\n",
      "\u001b[0;31mNameError\u001b[0m: name 'mean_loss' is not defined"
     ]
    },
    {
     "data": {
      "image/png": "[encoded data removed]",
      "text/plain": [
       "<Figure size 432x288 with 2 Axes>"
      ]
     },
     "metadata": {
      "needs_background": "light"
     },
     "output_type": "display_data"
    }
   ],
   "source": [
    "fig, axs = plt.subplots(1, 2)\n",
    "axs[0].plot([x for x in range(len(mean_loss[\"CNNIL_1\"]))],mean_loss[\"CNNIL_1\"])\n",
    "axs[0].set_title('Mean Loss for First CNN Block')\n",
    "axs[1].plot([x for x in range(len(mean_loss[\"CNNIL_2\"]))],mean_loss[\"CNNIL_2\"])\n",
    "axs[1].set_title('Mean Loss for Second CNN Block')"
   ]
  },
  {
   "cell_type": "markdown",
   "metadata": {},
   "source": [
    "## Testing Model\n",
    "Now let's do the same thing as training but with the data in our testing folder."
   ]
  },
  {
   "cell_type": "code",
   "execution_count": 195,
   "metadata": {},
   "outputs": [
    {
     "name": "stdout",
     "output_type": "stream",
     "text": [
      "HR and LR file locations updated\n",
      "HR and LR file locations updated\n"
     ]
    }
   ],
   "source": [
    "# Generate testing data for both axes\n",
    "sr_test_1 = SrGen('../data/CNNIL_nifti/Raw_test/','../data/CNNIL_nifti/HR_test_1/','../data/CNNIL_nifti/LR_test_1/')\n",
    "\n",
    "temp = sr_test_1.get_template()\n",
    "temp['out_type'] = 'nii'\n",
    "temp['resolution'] = [2,2,1]\n",
    "temp['translation'] = [0, 0, 0]\n",
    "temp['rotation'] = [0, 0, 0]\n",
    "temp['keep_blank'] = False\n",
    "temp['same_size'] = False\n",
    "temp['patch'] = [14,14,1] #[x,y,z] when looking at the brain from the top down\n",
    "temp['step'] = [12,12,4]\n",
    "sr_test_1.set_template(temp)\n",
    "\n",
    "#sr_test_1.run(clear=True, save=True)\n",
    "sr_test_1.match_altered(update=True, paths=False, sort=False)\n",
    "\n",
    "\n",
    "sr_test_2 = SrGen('../data/CNNIL_nifti/Raw_test/','../data/CNNIL_nifti/HR_test_2/','../data/CNNIL_nifti/LR_test_2/')\n",
    "temp = sr_test_2.get_template()\n",
    "temp['out_type'] = 'nii'\n",
    "temp['resolution'] = [1,1,2]\n",
    "temp['translation'] = [0, 0, 0]\n",
    "temp['rotation'] = [0, 0, 0]\n",
    "# temp['scale']= [1,1,1]\n",
    "temp['keep_blank'] = False\n",
    "temp['same_size'] = False\n",
    "temp['patch'] = [1,7,14] #[x,y,z] when looking at the brain from the top down\n",
    "temp['step'] = [4,6,12]\n",
    "sr_test_2.set_template(temp)\n",
    "\n",
    "#sr_test_2.run(clear=True, save=True)\n",
    "sr_test_2.match_altered(update=True, paths=False, sort=False)\n"
   ]
  },
  {
   "cell_type": "code",
   "execution_count": 196,
   "metadata": {},
   "outputs": [],
   "source": [
    "params_t = {'batch_size': 1,\n",
    "        'shuffle': False,\n",
    "        'num_workers': 2}\n",
    "\n",
    "testing_set_1 = Dataset(sr_test_1, axs = 'hw')\n",
    "testing_generator_1 = torch.utils.data.DataLoader(testing_set_1, **params_t)\n",
    "\n",
    "\n",
    "testing_set_2 = Dataset(sr_test_2, axs = 'w')\n",
    "testing_generator_2 = torch.utils.data.DataLoader(testing_set_2, **params_t)"
   ]
  },
  {
   "cell_type": "markdown",
   "metadata": {},
   "source": [
    "#### Run both datasets through the model\n"
   ]
  },
  {
   "cell_type": "code",
   "execution_count": 197,
   "metadata": {},
   "outputs": [],
   "source": [
    "# Load trained models:\n",
    "net_1.load_state_dict(torch.load('CNNIL_save_network1_39.p'))\n",
    "\n",
    "\n",
    "with torch.no_grad():\n",
    "    comp={'psnr' : [], 'rmse' : []}\n",
    "    for idx, [im_l, im_h] in enumerate(testing_generator_1):\n",
    "\n",
    "        # Use SR model on low resolution image\n",
    "        output_1, output_2 = net_1(im_l)\n",
    "\n",
    "        # Upscale im_l to the same size as im_h\n",
    "        im_l = torch.tensor(resize(im_l, im_h.shape, order=1, mode = 'symmetric'))\n",
    "\n",
    "        # Calculate PSNR for bicubic\n",
    "        diff = im_l - im_h\n",
    "        rmse_b = np.sqrt((diff**2).mean())\n",
    "        psnr_b = 20*np.log10(im_h.max()/rmse_b)\n",
    "\n",
    "        #print(f'bicubic evaluation for {idx}: rms={rmse_b}, psnr={psnr_b}')\n",
    "\n",
    "        # Calculate PSNR for SR\n",
    "        diff = output_2 - im_h\n",
    "        rmse_s = np.sqrt((diff**2).mean())\n",
    "        psnr_s = 20*np.log10(im_h.max()/rmse_s)\n",
    "        #print(f'SR evaluation for {idx}: rms={rmse_s}, psnr={psnr_s}')\n",
    "        if idx % 50 == 0:\n",
    "            comp['psnr'].append(psnr_s-psnr_b)\n",
    "            comp['rmse'].append(rmse_s-rmse_b)\n"
   ]
  },
  {
   "cell_type": "code",
   "execution_count": 198,
   "metadata": {},
   "outputs": [
    {
     "data": {
      "text/plain": [
       "Text(0.5, 1.0, 'RMSE: SR - BiC')"
      ]
     },
     "execution_count": 198,
     "metadata": {},
     "output_type": "execute_result"
    },
    {
     "data": {
      "image/png": "[encoded data removed]",
      "text/plain": [
       "<Figure size 432x288 with 2 Axes>"
      ]
     },
     "metadata": {
      "needs_background": "light"
     },
     "output_type": "display_data"
    }
   ],
   "source": [
    "# Sanity check, plot a histogram of how well the SR image performed compared to the Bicubic comparison\n",
    "fig, axs = plt.subplots(1, 2)\n",
    "axs[0].hist([float(x) for x in comp['psnr']], bins=10)\n",
    "axs[0].set_title('PSNR: SR - BiC')\n",
    "axs[1].hist([float(x) for x in comp['rmse']], bins=10)\n",
    "axs[1].set_title('RMSE: SR - BiC')"
   ]
  },
  {
   "cell_type": "code",
   "execution_count": 199,
   "metadata": {},
   "outputs": [],
   "source": [
    "# Load trained models:\n",
    "net_2.load_state_dict(torch.load('CNNIL_save_network2_39.p'))\n",
    "\n",
    "\n",
    "with torch.no_grad():\n",
    "    comp={'psnr' : [], 'rmse' : []}\n",
    "    for idx, [im_l, im_h] in enumerate(testing_generator_2):\n",
    "\n",
    "        # Use SR model on low resolution image\n",
    "        output_1, output_2 = net_2(im_l)\n",
    "\n",
    "        # Upscale im_l to the same size as im_h\n",
    "        im_l = torch.tensor(resize(im_l, im_h.shape, order=1, mode = 'symmetric'))\n",
    "\n",
    "        # Calculate PSNR for bicubic\n",
    "        # im_l = np.rint( np.clip(im_l, 0, 255))\n",
    "        # im_h = np.rint( np.clip(im_h, 0, 255))\n",
    "        diff = im_l - im_h\n",
    "        rmse_b = np.sqrt((diff**2).mean())\n",
    "        psnr_b = 20*np.log10(im_h.max()/rmse_b)\n",
    "\n",
    "        #print(f'bicubic evaluation for {idx}: rms={rmse_b}, psnr={psnr_b}')\n",
    "\n",
    "        # Calculate PSNR for SR\n",
    "        # im_h_sr = np.rint( np.clip(im_h_sr, 0, 255))\n",
    "        # im_h = np.rint( np.clip(im_h, 0, 255))\n",
    "        diff = output_2 - im_h\n",
    "        rmse_s = np.sqrt((diff**2).mean())\n",
    "        psnr_s = 20*np.log10(im_h.max()/rmse_s)\n",
    "        #print(f'SR evaluation for {idx}: rms={rmse_s}, psnr={psnr_s}')\n",
    "        if idx % 50 == 0:\n",
    "            comp['psnr'].append(psnr_s-psnr_b)\n",
    "            comp['rmse'].append(rmse_s-rmse_b)\n"
   ]
  },
  {
   "cell_type": "code",
   "execution_count": 200,
   "metadata": {},
   "outputs": [
    {
     "data": {
      "text/plain": [
       "Text(0.5, 1.0, 'RMSE: SR - BiC')"
      ]
     },
     "execution_count": 200,
     "metadata": {},
     "output_type": "execute_result"
    },
    {
     "data": {
      "image/png": "[encoded data removed]",
      "text/plain": [
       "<Figure size 432x288 with 2 Axes>"
      ]
     },
     "metadata": {
      "needs_background": "light"
     },
     "output_type": "display_data"
    }
   ],
   "source": [
    "# Sanity check, plot a histogram of how well the SR image performed compared to the Bicubic comparison\n",
    "fig, axs = plt.subplots(1, 2)\n",
    "axs[0].hist([float(x) for x in comp['psnr']], bins=10)\n",
    "axs[0].set_title('PSNR: SR - BiC')\n",
    "axs[1].hist([float(x) for x in comp['rmse']], bins=10)\n",
    "axs[1].set_title('RMSE: SR - BiC')"
   ]
  },
  {
   "cell_type": "markdown",
   "metadata": {},
   "source": [
    "# Final Application\n",
    "\n",
    "This is where I test both models on a full MRI image and see how it performs\n",
    "\n",
    "- [X] Create dataset of slightly altered full MRI `.nii` files\n",
    "- [X] Load saved trained models\n",
    "- [X] Compare to simple binomial interpolation (PSNR)\n"
   ]
  },
  {
   "cell_type": "code",
   "execution_count": 8,
   "metadata": {},
   "outputs": [
    {
     "name": "stdout",
     "output_type": "stream",
     "text": [
      "HR and LR file locations updated\n"
     ]
    }
   ],
   "source": [
    "# Generate testing data for both axes\n",
    "sr = SrGen('../data/CNNIL_nifti/Raw_test/','../data/CNNIL_nifti/Full_test/','../data/CNNIL_nifti/LR_Full_test/')\n",
    "\n",
    "temp = sr.get_template()\n",
    "temp['out_type'] = 'nii'\n",
    "temp['resolution'] = [2,2,2]\n",
    "temp['translation'] = [0, 0, 0]\n",
    "temp['rotation'] = [0, 0, 0]\n",
    "temp['keep_blank'] = False\n",
    "temp['same_size'] = False\n",
    "\n",
    "sr.set_template(temp)\n",
    "\n",
    "#sr.run(clear=True, save=True)\n",
    "sr.match_altered(update=True, paths=False, sort=False)\n",
    "\n",
    "\n",
    "params_t = {'batch_size': 1,\n",
    "        'shuffle': False,\n",
    "        'num_workers': 2}\n",
    "\n",
    "full_img_generator = Dataset(sr, axs = 'hw')"
   ]
  },
  {
   "cell_type": "code",
   "execution_count": 18,
   "metadata": {},
   "outputs": [
    {
     "name": "stdout",
     "output_type": "stream",
     "text": [
      "HR and LR file locations updated\n"
     ]
    }
   ],
   "source": [
    "# Run on full image:\n",
    "from skimage.transform import resize\n",
    "\n",
    "\n",
    "# Load matched images\n",
    "im_hr, im_lr = sr.match_altered(update = True, paths=True)\n",
    "\n",
    "# Load trained models:\n",
    "net_1.load_state_dict(torch.load('CNNIL_save_network1_39.p'))\n",
    "net_2.load_state_dict(torch.load('CNNIL_save_network2_39.p'))\n",
    "\n",
    "# Whether or not to save the output images:\n",
    "save_pre = './SR_images'\n",
    "\n",
    "\n",
    "with torch.no_grad():\n",
    "    comp={'psnr' : [], 'rmse' : []}\n",
    "    for idx, [im_l, im_h] in enumerate(full_img_generator):\n",
    "\n",
    "        output_1, output_2 = net_1(torch.transpose(im_l,0,1))\n",
    "        output_1, output_2 = net_2(torch.transpose(output_2,0,3))\n",
    "        output_2 = torch.transpose(torch.squeeze(output_2,1),2,0)\n",
    "\n",
    "        # Upscale im_l to the same size as im_h\n",
    "        im_l = torch.tensor(resize(im_l, im_h.shape, order=1, mode = 'symmetric'))\n",
    "\n",
    "        # Calculate PSNR for bicubic\n",
    "        diff = im_l - im_h\n",
    "        rmse_b = np.sqrt((diff**2).mean())\n",
    "        psnr_b = 20*np.log10(im_h.max()/rmse_b)\n",
    "\n",
    "\n",
    "        # Calculate PSNR for SR\n",
    "        diff = output_2 - im_h\n",
    "        rmse_s = np.sqrt((diff**2).mean())\n",
    "        psnr_s = 20*np.log10(im_h.max()/rmse_s)\n",
    "\n",
    "        comp['psnr'].append(psnr_s-psnr_b)\n",
    "        comp['rmse'].append(rmse_s-rmse_b)\n",
    "\n",
    "        if save_pre:\n",
    "            # Save the resulting images as .nii files\n",
    "            os.makedirs(save_pre,exist_ok=True)\n",
    "            sr.save_image(f'{save_pre}/{sr.LR_files[idx].split(\"/\")[-1]}', output_2.numpy())\n",
    "\n",
    "\n"
   ]
  },
  {
   "cell_type": "code",
   "execution_count": 21,
   "metadata": {},
   "outputs": [
    {
     "data": {
      "text/plain": [
       "Text(0.5, 1.0, 'RMSE: SR - BiC')"
      ]
     },
     "execution_count": 21,
     "metadata": {},
     "output_type": "execute_result"
    },
    {
     "data": {
      "image/png": "[encoded data removed]",
      "text/plain": [
       "<Figure size 432x288 with 2 Axes>"
      ]
     },
     "metadata": {
      "needs_background": "light"
     },
     "output_type": "display_data"
    }
   ],
   "source": [
    "fig, axs = plt.subplots(1, 2)\n",
    "axs[0].hist([float(x) for x in comp['psnr']], bins=10)\n",
    "axs[0].set_title('PSNR: SR - BiC')\n",
    "axs[1].hist([float(x) for x in comp['rmse']], bins=10)\n",
    "axs[1].set_title('RMSE: SR - BiC')"
   ]
  },
  {
   "cell_type": "code",
   "execution_count": 25,
   "metadata": {},
   "outputs": [
    {
     "data": {
      "text/plain": [
       "Text(0.5, 1.0, 'Truth')"
      ]
     },
     "execution_count": 25,
     "metadata": {},
     "output_type": "execute_result"
    },
    {
     "data": {
      "image/png": "[encoded data removed]",
      "text/plain": [
       "<Figure size 432x288 with 2 Axes>"
      ]
     },
     "metadata": {
      "needs_background": "light"
     },
     "output_type": "display_data"
    }
   ],
   "source": [
    "import matplotlib.pyplot as plt\n",
    "\n",
    "fig, axs = plt.subplots(1, 2)\n",
    "axs[0].imshow(torch.squeeze(output_2[40,:,:],0))\n",
    "axs[0].set_title('Super Resolution')\n",
    "axs[1].imshow(sr.load_image(im_hr[-1])[40,:,:])\n",
    "axs[1].set_title('Truth')"
   ]
  },
  {
   "cell_type": "markdown",
   "metadata": {},
   "source": [
    "## Conclusion\n",
    "\n",
    "There we have it! A nice version of the pipeline discussed using Pytorch!\n",
    "\n",
    "Potential directions for future development:\n",
    "- Determine how well the model works with different MRI collection parameters\n",
    "- "
   ]
  }
 ],
 "metadata": {
  "kernelspec": {
   "display_name": "Python 3.8.7 64-bit ('3.8.7')",
   "language": "python",
   "name": "python3"
  },
  "language_info": {
   "codemirror_mode": {
    "name": "ipython",
    "version": 3
   },
   "file_extension": ".py",
   "mimetype": "text/x-python",
   "name": "python",
   "nbconvert_exporter": "python",
   "pygments_lexer": "ipython3",
   "version": "3.8.7"
  },
  "orig_nbformat": 4,
  "vscode": {
   "interpreter": {
    "hash": "539b544e2c3fdc58492248d082a132f5e0b4fea63e914fb274c32873997cf2f6"
   }
  }
 },
 "nbformat": 4,
 "nbformat_minor": 2
}

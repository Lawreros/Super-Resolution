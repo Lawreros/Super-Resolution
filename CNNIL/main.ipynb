{
 "cells": [
  {
   "cell_type": "markdown",
   "metadata": {},
   "source": [
    "# Convolutional Neural Networks with Intermediate Loss for 3D Super-Resolution of CT and MRI Scans"
   ]
  },
  {
   "cell_type": "markdown",
   "metadata": {},
   "source": [
    "This notebook is a replication/exploration of the paper listed above. Data was tested on the ABIDEII-BNI1 anatomical scans (subjects 29006 - 29011 for training, 29012 - 29015 for testing)"
   ]
  },
  {
   "cell_type": "code",
   "execution_count": 173,
   "metadata": {},
   "outputs": [],
   "source": [
    "import torch\n",
    "import torch.nn as nn\n",
    "import torch.nn.functional as F\n",
    "import torch.optim as optim\n",
    "import os\n",
    "import numpy as np\n",
    "import sys\n",
    "sys.path.append('..') # Stupid thing Python makes you do to import from a sibling directory\n",
    "from gen_utils.SrGen import SrGen # Custom class for image generation"
   ]
  },
  {
   "cell_type": "markdown",
   "metadata": {},
   "source": [
    "## Define model"
   ]
  },
  {
   "cell_type": "code",
   "execution_count": 174,
   "metadata": {},
   "outputs": [],
   "source": [
    "class CNNIL(nn.Module):\n",
    "    def __init__(self, upscale=2, axs = 'hw'):\n",
    "        super().__init__()\n",
    "        self.axs = axs\n",
    "\n",
    "        self.rel = nn.ReLU()\n",
    "        if axs == 'hw':\n",
    "            self.conv1 = nn.Conv2d(1,32,3, padding='same', bias=False)\n",
    "            self.conv2 = nn.Conv2d(32,32,3, padding='same', bias=False)\n",
    "            self.conv3 = nn.Conv2d(32,32,3, padding='same', bias=False)\n",
    "            self.conv4 = nn.Conv2d(32,32,3, padding='same', bias=False)\n",
    "            self.conv5 = nn.Conv2d(32,32,3, padding='same', bias=False)\n",
    "            self.conv6 = nn.Conv2d(32,4,3, padding='same', bias=False)\n",
    "            \n",
    "            # Upscale step occurs here\n",
    "\n",
    "            self.conv7 = nn.Conv2d(1,32,3, padding='same', bias=False)\n",
    "            self.conv8 = nn.Conv2d(32,32,3, padding='same', bias=False)\n",
    "            self.conv9 = nn.Conv2d(32,32,3, padding='same', bias=False)\n",
    "            self.conv10 = nn.Conv2d(32,1,3, padding='same', bias = False)\n",
    "        elif axs == 'h' or axs == 'w':\n",
    "            self.conv1 = nn.Conv2d(1,32,3, padding='same', bias=False)\n",
    "            self.conv2 = nn.Conv2d(32,32,3, padding='same', bias=False)\n",
    "            self.conv3 = nn.Conv2d(32,32,3, padding='same', bias=False)\n",
    "            self.conv4 = nn.Conv2d(32,32,3, padding='same', bias=False)\n",
    "            self.conv5 = nn.Conv2d(32,32,3, padding='same', bias=False)\n",
    "            self.conv6 = nn.Conv2d(32,2,3, padding='same', bias=False)\n",
    "            \n",
    "            # Upscale step occurs here\n",
    "\n",
    "            self.conv7 = nn.Conv2d(1,32,3, padding='same', bias=False)\n",
    "            self.conv8 = nn.Conv2d(32,32,3, padding='same', bias=False)\n",
    "            self.conv9 = nn.Conv2d(32,32,3, padding='same', bias=False)\n",
    "            self.conv10 = nn.Conv2d(32,1,3, padding='same', bias = False)\n",
    "\n",
    "    def forward(self, x):\n",
    "\n",
    "        x = self.rel(self.conv1(x))\n",
    "        \n",
    "        x_l = self.rel(self.conv2(x))\n",
    "        x_l = self.rel(self.conv3(x_l))\n",
    "        x_l = self.rel(self.conv4(x_l+x))\n",
    "        x_l = self.rel(self.conv5(x_l))\n",
    "        x_l = self.rel(self.conv6(x_l+x))\n",
    "\n",
    "        x_l = self.kern_upscale(x_l, axs = self.axs)\n",
    "\n",
    "        x = self.rel(self.conv7(x_l))\n",
    "        x_h = self.rel(self.conv8(x))\n",
    "        x_h = self.rel(self.conv9(x_h))\n",
    "        x_h = self.rel(self.conv10(x_h+x))\n",
    "\n",
    "        return x_l, x_h #Return both results for the loss function\n",
    "\n",
    "    @staticmethod\n",
    "    def kern_upscale(x, axs='hw'):\n",
    "        # Function to do the unique upscaling pattern they propose in\n",
    "        # the paper\n",
    "        #TODO: have them input a tuple for scale of the dimensions they wish to expand along\n",
    "        s, c, h, w = [int(_) for _ in list(x.shape)]\n",
    "\n",
    "        if axs == 'hw':\n",
    "            c = int(c/2)\n",
    "\n",
    "            b = torch.cat(torch.unbind(x,1),2)\n",
    "            b = torch.reshape(b,(s,1,h*c,w*c))\n",
    "            b = torch.transpose(b,2,3)\n",
    "            b = torch.cat(torch.split(b,h,2),3)\n",
    "            b = torch.reshape(b,(s,1,h*c,w*c))\n",
    "            x_up = torch.transpose(b,2,3)\n",
    "\n",
    "\n",
    "            # x_up = torch.cat(torch.unbind(x,1),2)\n",
    "            # x_up = torch.reshape(x_up,(s,1,h*c,w*c))\n",
    "            # x_up = torch.transpose(x_up,2,3)\n",
    "            # x_up = torch.cat(torch.split(x_up,2,2),3)\n",
    "            # x_up = torch.transpose(torch.reshape(x_up,(s,1,h*c,w*c)),2,3)\n",
    "        elif axs == 'h':\n",
    "            x_up = torch.unsqueeze(torch.cat(torch.unbind(x,2),1),1)\n",
    "            #x_up = torch.unsqueeze(x_up,0)\n",
    "        elif axs == 'w':\n",
    "            x_up = torch.cat(torch.unbind(x,3),1)\n",
    "            x_up = torch.unsqueeze(torch.transpose(x_up,1,2),1)\n",
    "            #x_up = torch.unsqueeze(x_up,0)\n",
    "        else:\n",
    "            print('No valid scaling dimension selected, returning False')\n",
    "            x_up = False\n",
    "\n",
    "        return x_up\n"
   ]
  },
  {
   "cell_type": "code",
   "execution_count": 2,
   "metadata": {},
   "outputs": [
    {
     "data": {
      "text/plain": [
       "torch.Size([4, 2, 2])"
      ]
     },
     "execution_count": 2,
     "metadata": {},
     "output_type": "execute_result"
    }
   ],
   "source": [
    "# Testing of kern_upscale function with only 3D tensor\n",
    "\n",
    "a = torch.tensor([[[1,2],[3,4]],\n",
    "                [[5,6],[7,8]],\n",
    "                [[9,10],[11,12]],\n",
    "                [[13,14],[15,16]]])\n",
    "a.shape"
   ]
  },
  {
   "cell_type": "code",
   "execution_count": 3,
   "metadata": {},
   "outputs": [
    {
     "name": "stdout",
     "output_type": "stream",
     "text": [
      "torch.Size([4, 2, 2])\n",
      "torch.Size([2, 8])\n",
      "torch.Size([4, 4])\n"
     ]
    },
    {
     "data": {
      "text/plain": [
       "tensor([[ 1,  5,  2,  6],\n",
       "        [ 9, 13, 10, 14],\n",
       "        [ 3,  7,  4,  8],\n",
       "        [11, 15, 12, 16]])"
      ]
     },
     "execution_count": 3,
     "metadata": {},
     "output_type": "execute_result"
    }
   ],
   "source": [
    "# Concatinate each of the layers next to eachother\n",
    "print(a.shape)\n",
    "b = torch.cat(torch.unbind(a),1)\n",
    "print(b.shape)\n",
    "b = torch.reshape(b,(4,4))\n",
    "print(b.shape)\n",
    "b = torch.transpose(b,0,1)\n",
    "b = torch.cat(torch.split(b,2,0),1)\n",
    "torch.transpose(torch.reshape(b,(4,4)),0,1)"
   ]
  },
  {
   "cell_type": "code",
   "execution_count": 141,
   "metadata": {},
   "outputs": [
    {
     "name": "stdout",
     "output_type": "stream",
     "text": [
      "shape of a is torch.Size([1, 4, 3, 3])\n"
     ]
    },
    {
     "data": {
      "text/plain": [
       "torch.Size([1, 1, 6, 6])"
      ]
     },
     "execution_count": 141,
     "metadata": {},
     "output_type": "execute_result"
    }
   ],
   "source": [
    "# Testing of above kern_upscale function with 4D tensor (what the model will acually use)\n",
    "a = torch.tensor([[[[1,2,0.1],[3,4,0.2],[0.3,0.4,0.5]],\n",
    "                [[5,6,6.1],[7,8,6.2],[0.6,0.7,0.8]],\n",
    "                [[9,10,6.3],[11,12,6.4],[0.9,1.1,1.2]],\n",
    "                [[13,14,6.5],[15,16,6.6],[1.3,1.4,1.5]]]])\n",
    "print(f'shape of a is {a.shape}')\n",
    "\n",
    "b = torch.cat(torch.unbind(a,1),2)\n",
    "b = torch.reshape(b,(1,1,6,6))\n",
    "b = torch.transpose(b,2,3)\n",
    "b = torch.cat(torch.split(b,3,2),3)\n",
    "b = torch.reshape(b,(1,1,6,6))\n",
    "b = torch.transpose(b,2,3)\n",
    "\n",
    "# b = torch.transpose(b,2,3)\n",
    "# b = torch.cat(torch.split(b,2,2),3)\n",
    "# b = torch.transpose(torch.reshape(b,(1,1,6,6)),2,3)\n",
    "b.shape"
   ]
  },
  {
   "cell_type": "code",
   "execution_count": 156,
   "metadata": {},
   "outputs": [
    {
     "data": {
      "text/plain": [
       "tensor([[[[ 1.0000,  5.0000,  9.0000, 13.0000,  2.0000,  6.0000, 10.0000,\n",
       "           14.0000,  0.1000,  6.1000,  6.3000,  6.5000],\n",
       "          [ 3.0000,  7.0000, 11.0000, 15.0000,  4.0000,  8.0000, 12.0000,\n",
       "           16.0000,  0.2000,  6.2000,  6.4000,  6.6000],\n",
       "          [ 0.3000,  0.6000,  0.9000,  1.3000,  0.4000,  0.7000,  1.1000,\n",
       "            1.4000,  0.5000,  0.8000,  1.2000,  1.5000]]]])"
      ]
     },
     "execution_count": 156,
     "metadata": {},
     "output_type": "execute_result"
    }
   ],
   "source": [
    "# Upscale along just one axis\n",
    "# a = torch.tensor([[[[1,2],[3,4]],\n",
    "#                 [[5,6],[7,8]]],[[[2,4],[6,8]],[[10,12],[14,16]]]])\n",
    "# print(f'shape of a is {a.shape}')\n",
    "\n",
    "# Version for doubling height\n",
    "# b = torch.cat(torch.unbind(a,2),2)\n",
    "# b = torch.reshape(b,(1,1,2,4))\n",
    "# b = torch.cat(torch.split(b,2,3),2)\n",
    "\n",
    "## b = torch.unsqueeze(torch.cat(torch.unbind(a,2),1),0)\n",
    "\n",
    "# Version for doubling width\n",
    "# b = torch.cat(torch.unbind(a,3),1)\n",
    "# torch.unsqueeze(torch.transpose(b, 1,2),1)\n",
    "b = torch.cat(torch.unbind(a,3),1)\n",
    "b = torch.unsqueeze(torch.transpose(b,1,2),1)\n",
    "b"
   ]
  },
  {
   "cell_type": "markdown",
   "metadata": {},
   "source": [
    "## Set Optimization Parameters"
   ]
  },
  {
   "cell_type": "code",
   "execution_count": 175,
   "metadata": {},
   "outputs": [],
   "source": [
    "net_1 = CNNIL(axs = 'hw')\n",
    "net_2 = CNNIL(axs = 'w')\n",
    "\n",
    "# \"... trained the CNN for 40 epochs, starting with a learning rate of 0.001 and decreasing\n",
    "# the learning rate to 0.0001 after the first 20 epochs\"\n",
    "optimizer_1 = optim.Adam(net_1.parameters(), lr=0.001)\n",
    "optimizer_2 = optim.Adam(net_2.parameters(), lr=0.001)\n",
    "\n",
    "# They have a custom loss function that incorporates the final results and the result\n",
    "# right after the upscaling step\n",
    "# https://discuss.pytorch.org/t/custom-loss-functions/29387\n",
    "\n",
    "def intermediate_loss(output_intermediate, output_final, target):\n",
    "    mae_loss = nn.L1Loss() #Built in mean absolute error loss function\n",
    "    loss = mae_loss(output_intermediate, target)+mae_loss(output_final, target)\n",
    "    return loss\n"
   ]
  },
  {
   "cell_type": "markdown",
   "metadata": {},
   "source": [
    "## Generate Data for Training"
   ]
  },
  {
   "cell_type": "code",
   "execution_count": 176,
   "metadata": {},
   "outputs": [
    {
     "name": "stdout",
     "output_type": "stream",
     "text": [
      "HR and LR file locations updated\n"
     ]
    }
   ],
   "source": [
    "sr_train_1 = SrGen('../data/CNNIL_nifti/Raw_train/','../data/CNNIL_nifti/HR_train_1/','../data/CNNIL_nifti/LR_train_1/')\n",
    "\n",
    "temp = sr_train_1.get_template()\n",
    "temp['out_type'] = 'nii'\n",
    "temp['resolution'] = [2,2,1]\n",
    "temp['translation'] = [0, 0, 0]\n",
    "temp['rotation'] = [0, 0, 0]\n",
    "temp['keep_blank'] = False\n",
    "temp['same_size'] = False\n",
    "temp['patch'] = [14,14,1] #[x,y,z] when looking at the brain from the top down\n",
    "temp['step'] = [12,12,4]\n",
    "sr_train_1.set_template(temp)\n",
    "\n",
    "# sr_train_1.run(clear=True, save=True)\n",
    "sr_train_1.match_altered(update=True, paths=False, sort=False)"
   ]
  },
  {
   "cell_type": "code",
   "execution_count": 177,
   "metadata": {},
   "outputs": [
    {
     "name": "stdout",
     "output_type": "stream",
     "text": [
      "HR and LR file locations updated\n"
     ]
    }
   ],
   "source": [
    "sr_train_2 = SrGen('../data/CNNIL_nifti/Raw_train/','../data/CNNIL_nifti/HR_train_2/','../data/CNNIL_nifti/LR_train_2/')\n",
    "temp = sr_train_2.get_template()\n",
    "temp['out_type'] = 'nii'\n",
    "temp['resolution'] = [1,1,2]\n",
    "temp['translation'] = [0, 0, 0]\n",
    "temp['rotation'] = [0, 0, 0]\n",
    "# temp['scale']= [1,1,1]\n",
    "temp['keep_blank'] = False\n",
    "temp['same_size'] = False\n",
    "temp['patch'] = [1,7,14] #[x,y,z] when looking at the brain from the top down\n",
    "temp['step'] = [4,6,12]\n",
    "sr_train_2.set_template(temp)\n",
    "\n",
    "# sr_train_2.run(clear=True, save=True)\n",
    "sr_train_2.match_altered(update=True, paths=False, sort=False)"
   ]
  },
  {
   "cell_type": "markdown",
   "metadata": {},
   "source": [
    "# Create Dataloader"
   ]
  },
  {
   "cell_type": "code",
   "execution_count": 182,
   "metadata": {},
   "outputs": [],
   "source": [
    "class Dataset(torch.utils.data.Dataset):\n",
    "    def __init__(self, sr_class, axs='hw'):\n",
    "        self.sr_class = sr_class\n",
    "        self.axs = axs\n",
    "\n",
    "        # In case I forget to run match_altered before pulling the class\n",
    "        if not sr_class.HR_files:\n",
    "            sr_class.match_altered(update=True)\n",
    "\n",
    "    def __len__(self):\n",
    "        return len(self.sr_class.HR_files)\n",
    "\n",
    "    def __getitem__(self, index):\n",
    "        Y, X = self.sr_class.load_image_pair(index)\n",
    "\n",
    "        # SR along two axes\n",
    "        if self.axs == 'hw':\n",
    "            X = torch.unsqueeze(torch.squeeze(torch.tensor(X, dtype=torch.float32),-1),0)\n",
    "            Y = torch.unsqueeze(torch.squeeze(torch.tensor(Y, dtype=torch.float32),-1),0)\n",
    "\n",
    "        # SR along one axis\n",
    "        elif self.axs == 'h':\n",
    "            X = torch.tensor(X, dtype=torch.float32)\n",
    "            Y = torch.tensor(Y, dtype=torch.float32)\n",
    "        elif self.axs == 'w':\n",
    "            X = torch.tensor(X, dtype=torch.float32)\n",
    "            Y = torch.tensor(Y, dtype=torch.float32)\n",
    "        else:\n",
    "            raise NotImplementedError(f'Super resolution along {self.axs} currently not supported')\n",
    "            \n",
    "        return X,Y"
   ]
  },
  {
   "cell_type": "code",
   "execution_count": 183,
   "metadata": {},
   "outputs": [],
   "source": [
    "params = {'batch_size': 128,\n",
    "        'shuffle': True,\n",
    "        'num_workers': 2}\n",
    "\n",
    "training_set_1 = Dataset(sr_train_1, axs = 'hw')\n",
    "training_generator_1 = torch.utils.data.DataLoader(training_set_1, **params)\n",
    "\n",
    "\n",
    "training_set_2 = Dataset(sr_train_2, axs = 'w')\n",
    "training_generator_2 = torch.utils.data.DataLoader(training_set_2, **params)"
   ]
  },
  {
   "cell_type": "markdown",
   "metadata": {},
   "source": [
    "# Training Loop"
   ]
  },
  {
   "cell_type": "code",
   "execution_count": 184,
   "metadata": {},
   "outputs": [
    {
     "name": "stdout",
     "output_type": "stream",
     "text": [
      "CNNIL_2 : epoch 36, loss mean: 4.573669735019354, loss: 3.8974220752716064-5.66921329498291\n"
     ]
    },
    {
     "name": "stderr",
     "output_type": "stream",
     "text": [
      " 92%|█████████▎| 37/40 [34:10<02:45, 55.32s/it]"
     ]
    },
    {
     "name": "stdout",
     "output_type": "stream",
     "text": [
      "CNNIL_2 : epoch 37, loss mean: 4.560485342340288, loss: 3.8129186630249023-5.42573356628418\n"
     ]
    },
    {
     "name": "stderr",
     "output_type": "stream",
     "text": [
      " 95%|█████████▌| 38/40 [35:22<02:00, 60.12s/it]"
     ]
    },
    {
     "name": "stdout",
     "output_type": "stream",
     "text": [
      "CNNIL_2 : epoch 38, loss mean: 4.566803450816278, loss: 3.787445545196533-5.4450225830078125\n"
     ]
    },
    {
     "name": "stderr",
     "output_type": "stream",
     "text": [
      " 98%|█████████▊| 39/40 [36:43<01:06, 66.37s/it]"
     ]
    },
    {
     "name": "stdout",
     "output_type": "stream",
     "text": [
      "CNNIL_2 : epoch 39, loss mean: 4.556925632484871, loss: 3.753783702850342-5.277474403381348\n"
     ]
    },
    {
     "name": "stderr",
     "output_type": "stream",
     "text": [
      "100%|██████████| 40/40 [37:56<00:00, 56.90s/it]\n"
     ]
    }
   ],
   "source": [
    "from tqdm import tqdm\n",
    "import time\n",
    "\n",
    "max_epochs = 40\n",
    "save_rate = 10\n",
    "epoch_adjust = 0\n",
    "save_prefix = \"./CNNIL_save\"\n",
    "\n",
    "mean_loss = {'CNNIL_1': [],\n",
    "            'CNNIL_2':[]}\n",
    "\n",
    "for epoch in tqdm(range(max_epochs)):\n",
    "    losses = []\n",
    "\n",
    "    # Training\n",
    "    count = 0\n",
    "    for inp, goal in training_generator_1:\n",
    "        optimizer_1.zero_grad()\n",
    "\n",
    "        output_1, output_2 = net_1(inp) # the 2 is the number of iterations in the LISTA network\n",
    "        #output = torch.clamp(output, 0, 255)\n",
    "\n",
    "        loss = intermediate_loss(output_1,output_2,goal)\n",
    "        loss.backward()\n",
    "        optimizer_1.step()\n",
    "        #print(f'loss = {loss.item()}')\n",
    "        losses.append(loss.item())\n",
    "        count = count+1\n",
    "    \n",
    "\n",
    "    if (epoch % save_rate == 0) or epoch == (max_epochs-1):\n",
    "        torch.save(net_1.state_dict(), f'{save_prefix}_network1_{epoch+epoch_adjust}.p')\n",
    "    print(f'CNNIL_1 : epoch {epoch}, loss mean: {sum(losses)/len(losses)}, loss: {min(losses)}-{max(losses)}')\n",
    "    mean_loss[\"CNNIL_1\"].append(sum(losses)/len(losses))\n",
    "\n",
    "    # Give computer time to cool down\n",
    "    time.sleep(10)\n",
    "\n",
    "\n",
    "for epoch in tqdm(range(max_epochs)):\n",
    "    losses = []\n",
    "\n",
    "    # Training\n",
    "    count = 0\n",
    "    for inp, goal in training_generator_2:\n",
    "        optimizer_2.zero_grad()\n",
    "\n",
    "        output_1, output_2 = net_2(inp) # the 2 is the number of iterations in the LISTA network\n",
    "        #output = torch.clamp(output, 0, 255)\n",
    "\n",
    "        loss = intermediate_loss(output_1,output_2,goal)\n",
    "        loss.backward()\n",
    "        optimizer_2.step()\n",
    "        #print(f'loss = {loss.item()}')\n",
    "        losses.append(loss.item())\n",
    "        count = count+1\n",
    "    \n",
    "\n",
    "    if (epoch % save_rate == 0) or epoch == (max_epochs-1):\n",
    "        torch.save(net_2.state_dict(), f'{save_prefix}_network2_{epoch+epoch_adjust}.p')\n",
    "    print(f'CNNIL_2 : epoch {epoch}, loss mean: {sum(losses)/len(losses)}, loss: {min(losses)}-{max(losses)}')\n",
    "    mean_loss[\"CNNIL_2\"].append(sum(losses)/len(losses))\n",
    "\n",
    "    # Give computer time to cool down\n",
    "    time.sleep(10)\n"
   ]
  },
  {
   "cell_type": "code",
   "execution_count": 185,
   "metadata": {},
   "outputs": [
    {
     "data": {
      "text/plain": [
       "[<matplotlib.lines.Line2D at 0x7f1216534dc0>]"
      ]
     },
     "execution_count": 185,
     "metadata": {},
     "output_type": "execute_result"
    },
    {
     "data": {
      "image/png": "[encoded data removed]",
      "text/plain": [
       "<Figure size 432x288 with 2 Axes>"
      ]
     },
     "metadata": {
      "needs_background": "light"
     },
     "output_type": "display_data"
    }
   ],
   "source": [
    "import matplotlib.pyplot as plt\n",
    "\n",
    "fig, axs = plt.subplots(1, 2)\n",
    "axs[0].plot([x for x in range(len(mean_loss[\"CNNIL_1\"]))],mean_loss[\"CNNIL_1\"])\n",
    "axs[1].plot([x for x in range(len(mean_loss[\"CNNIL_2\"]))],mean_loss[\"CNNIL_2\"])"
   ]
  },
  {
   "cell_type": "code",
   "execution_count": null,
   "metadata": {},
   "outputs": [],
   "source": []
  },
  {
   "cell_type": "markdown",
   "metadata": {},
   "source": [
    "## Testing Model"
   ]
  },
  {
   "cell_type": "code",
   "execution_count": 195,
   "metadata": {},
   "outputs": [
    {
     "name": "stdout",
     "output_type": "stream",
     "text": [
      "HR and LR file locations updated\n",
      "HR and LR file locations updated\n"
     ]
    }
   ],
   "source": [
    "# Generate testing data for both axes\n",
    "sr_test_1 = SrGen('../data/CNNIL_nifti/Raw_test/','../data/CNNIL_nifti/HR_test_1/','../data/CNNIL_nifti/LR_test_1/')\n",
    "\n",
    "temp = sr_test_1.get_template()\n",
    "temp['out_type'] = 'nii'\n",
    "temp['resolution'] = [2,2,1]\n",
    "temp['translation'] = [0, 0, 0]\n",
    "temp['rotation'] = [0, 0, 0]\n",
    "temp['keep_blank'] = False\n",
    "temp['same_size'] = False\n",
    "temp['patch'] = [14,14,1] #[x,y,z] when looking at the brain from the top down\n",
    "temp['step'] = [12,12,4]\n",
    "sr_test_1.set_template(temp)\n",
    "\n",
    "#sr_test_1.run(clear=True, save=True)\n",
    "sr_test_1.match_altered(update=True, paths=False, sort=False)\n",
    "\n",
    "\n",
    "sr_test_2 = SrGen('../data/CNNIL_nifti/Raw_test/','../data/CNNIL_nifti/HR_test_2/','../data/CNNIL_nifti/LR_test_2/')\n",
    "temp = sr_test_2.get_template()\n",
    "temp['out_type'] = 'nii'\n",
    "temp['resolution'] = [1,1,2]\n",
    "temp['translation'] = [0, 0, 0]\n",
    "temp['rotation'] = [0, 0, 0]\n",
    "# temp['scale']= [1,1,1]\n",
    "temp['keep_blank'] = False\n",
    "temp['same_size'] = False\n",
    "temp['patch'] = [1,7,14] #[x,y,z] when looking at the brain from the top down\n",
    "temp['step'] = [4,6,12]\n",
    "sr_test_2.set_template(temp)\n",
    "\n",
    "#sr_test_2.run(clear=True, save=True)\n",
    "sr_test_2.match_altered(update=True, paths=False, sort=False)\n"
   ]
  },
  {
   "cell_type": "code",
   "execution_count": 196,
   "metadata": {},
   "outputs": [],
   "source": [
    "params_t = {'batch_size': 1,\n",
    "        'shuffle': False,\n",
    "        'num_workers': 2}\n",
    "\n",
    "testing_set_1 = Dataset(sr_test_1, axs = 'hw')\n",
    "testing_generator_1 = torch.utils.data.DataLoader(testing_set_1, **params_t)\n",
    "\n",
    "\n",
    "testing_set_2 = Dataset(sr_test_2, axs = 'w')\n",
    "testing_generator_2 = torch.utils.data.DataLoader(testing_set_2, **params_t)"
   ]
  },
  {
   "cell_type": "markdown",
   "metadata": {},
   "source": [
    "#### Run both datasets through the model\n"
   ]
  },
  {
   "cell_type": "code",
   "execution_count": 197,
   "metadata": {},
   "outputs": [],
   "source": [
    "from skimage.transform import resize\n",
    "# Load trained models:\n",
    "net_1.load_state_dict(torch.load('CNNIL_save_network1_39.p'))\n",
    "\n",
    "\n",
    "with torch.no_grad():\n",
    "    comp={'psnr' : [], 'rmse' : []}\n",
    "    for idx, [im_l, im_h] in enumerate(testing_generator_1):\n",
    "\n",
    "        # Take low resolution and upscale using bicubic interpolation\n",
    "        # (which has already been done due to the image generation process)\n",
    "        # Thus im_l is the bicubic interpolation to compare to...\n",
    "\n",
    "        # Use SR model on low resolution image\n",
    "        output_1, output_2 = net_1(im_l)\n",
    "\n",
    "        # Upscale im_l to the same size as im_h\n",
    "        im_l = torch.tensor(resize(im_l, im_h.shape, order=1, mode = 'symmetric'))\n",
    "\n",
    "        # Calculate PSNR for bicubic\n",
    "        # im_l = np.rint( np.clip(im_l, 0, 255))\n",
    "        # im_h = np.rint( np.clip(im_h, 0, 255))\n",
    "        diff = im_l - im_h\n",
    "        rmse_b = np.sqrt((diff**2).mean())\n",
    "        psnr_b = 20*np.log10(im_h.max()/rmse_b)\n",
    "\n",
    "        #print(f'bicubic evaluation for {idx}: rms={rmse_b}, psnr={psnr_b}')\n",
    "\n",
    "        # Calculate PSNR for SR\n",
    "        # im_h_sr = np.rint( np.clip(im_h_sr, 0, 255))\n",
    "        # im_h = np.rint( np.clip(im_h, 0, 255))\n",
    "        diff = output_2 - im_h\n",
    "        rmse_s = np.sqrt((diff**2).mean())\n",
    "        psnr_s = 20*np.log10(im_h.max()/rmse_s)\n",
    "        #print(f'SR evaluation for {idx}: rms={rmse_s}, psnr={psnr_s}')\n",
    "        if idx % 50 == 0:\n",
    "            comp['psnr'].append(psnr_s-psnr_b)\n",
    "            comp['rmse'].append(rmse_s-rmse_b)\n"
   ]
  },
  {
   "cell_type": "code",
   "execution_count": 198,
   "metadata": {},
   "outputs": [
    {
     "data": {
      "text/plain": [
       "Text(0.5, 1.0, 'RMSE: SR - BiC')"
      ]
     },
     "execution_count": 198,
     "metadata": {},
     "output_type": "execute_result"
    },
    {
     "data": {
      "image/png": "[encoded data removed]",
      "text/plain": [
       "<Figure size 432x288 with 2 Axes>"
      ]
     },
     "metadata": {
      "needs_background": "light"
     },
     "output_type": "display_data"
    }
   ],
   "source": [
    "# Sanity check, plot a histogram of how well the SR image performed compared to the Bicubic comparison\n",
    "fig, axs = plt.subplots(1, 2)\n",
    "axs[0].hist([float(x) for x in comp['psnr']], bins=10)\n",
    "axs[0].set_title('PSNR: SR - BiC')\n",
    "axs[1].hist([float(x) for x in comp['rmse']], bins=10)\n",
    "axs[1].set_title('RMSE: SR - BiC')"
   ]
  },
  {
   "cell_type": "code",
   "execution_count": 199,
   "metadata": {},
   "outputs": [],
   "source": [
    "# Load trained models:\n",
    "net_2.load_state_dict(torch.load('CNNIL_save_network2_39.p'))\n",
    "\n",
    "\n",
    "with torch.no_grad():\n",
    "    comp={'psnr' : [], 'rmse' : []}\n",
    "    for idx, [im_l, im_h] in enumerate(testing_generator_2):\n",
    "\n",
    "        # Use SR model on low resolution image\n",
    "        output_1, output_2 = net_2(im_l)\n",
    "\n",
    "        # Upscale im_l to the same size as im_h\n",
    "        im_l = torch.tensor(resize(im_l, im_h.shape, order=1, mode = 'symmetric'))\n",
    "\n",
    "        # Calculate PSNR for bicubic\n",
    "        # im_l = np.rint( np.clip(im_l, 0, 255))\n",
    "        # im_h = np.rint( np.clip(im_h, 0, 255))\n",
    "        diff = im_l - im_h\n",
    "        rmse_b = np.sqrt((diff**2).mean())\n",
    "        psnr_b = 20*np.log10(im_h.max()/rmse_b)\n",
    "\n",
    "        #print(f'bicubic evaluation for {idx}: rms={rmse_b}, psnr={psnr_b}')\n",
    "\n",
    "        # Calculate PSNR for SR\n",
    "        # im_h_sr = np.rint( np.clip(im_h_sr, 0, 255))\n",
    "        # im_h = np.rint( np.clip(im_h, 0, 255))\n",
    "        diff = output_2 - im_h\n",
    "        rmse_s = np.sqrt((diff**2).mean())\n",
    "        psnr_s = 20*np.log10(im_h.max()/rmse_s)\n",
    "        #print(f'SR evaluation for {idx}: rms={rmse_s}, psnr={psnr_s}')\n",
    "        if idx % 50 == 0:\n",
    "            comp['psnr'].append(psnr_s-psnr_b)\n",
    "            comp['rmse'].append(rmse_s-rmse_b)\n"
   ]
  },
  {
   "cell_type": "code",
   "execution_count": 200,
   "metadata": {},
   "outputs": [
    {
     "data": {
      "text/plain": [
       "Text(0.5, 1.0, 'RMSE: SR - BiC')"
      ]
     },
     "execution_count": 200,
     "metadata": {},
     "output_type": "execute_result"
    },
    {
     "data": {
      "image/png": "[encoded data removed]",
      "text/plain": [
       "<Figure size 432x288 with 2 Axes>"
      ]
     },
     "metadata": {
      "needs_background": "light"
     },
     "output_type": "display_data"
    }
   ],
   "source": [
    "# Sanity check, plot a histogram of how well the SR image performed compared to the Bicubic comparison\n",
    "fig, axs = plt.subplots(1, 2)\n",
    "axs[0].hist([float(x) for x in comp['psnr']], bins=10)\n",
    "axs[0].set_title('PSNR: SR - BiC')\n",
    "axs[1].hist([float(x) for x in comp['rmse']], bins=10)\n",
    "axs[1].set_title('RMSE: SR - BiC')"
   ]
  },
  {
   "cell_type": "markdown",
   "metadata": {},
   "source": [
    "# Final Application\n",
    "\n",
    "This is where I test both models on a full MRI image and see how it performs\n",
    "\n",
    "- [X] Create dataset of slightly altered full MRI `.nii` files\n",
    "- [X] Load saved trained models\n",
    "- [ ] Compare to simple binomial interpolation (PSNR)\n"
   ]
  },
  {
   "cell_type": "code",
   "execution_count": 201,
   "metadata": {},
   "outputs": [
    {
     "name": "stdout",
     "output_type": "stream",
     "text": [
      "HR and LR file locations updated\n"
     ]
    }
   ],
   "source": [
    "# Generate testing data for both axes\n",
    "sr = SrGen('../data/CNNIL_nifti/Raw_test/','../data/CNNIL_nifti/Full_test/','../data/CNNIL_nifti/LR_Full_test/')\n",
    "\n",
    "temp = sr.get_template()\n",
    "temp['out_type'] = 'nii'\n",
    "temp['resolution'] = [2,2,2]\n",
    "temp['translation'] = [0, 0, 0]\n",
    "temp['rotation'] = [0, 0, 0]\n",
    "temp['keep_blank'] = False\n",
    "temp['same_size'] = False\n",
    "\n",
    "sr.set_template(temp)\n",
    "\n",
    "#sr.run(clear=True, save=True)\n",
    "sr.match_altered(update=True, paths=False, sort=False)"
   ]
  },
  {
   "cell_type": "code",
   "execution_count": 208,
   "metadata": {},
   "outputs": [
    {
     "name": "stdout",
     "output_type": "stream",
     "text": [
      "HR and LR file locations updated\n",
      "../data/CNNIL_nifti/LR_Full_test/29014_anat_rot0_0_0_tr0_0_0_scale_1_1_1.nii\n",
      "(96, 128, 128)\n",
      "torch.Size([256, 1, 256, 192])\n"
     ]
    }
   ],
   "source": [
    "# Run on full image:\n",
    "# Load matched images\n",
    "im_hr, im_lr = sr.match_altered(update = True, paths=True)\n",
    "\n",
    "# Load trained models:\n",
    "net_1.load_state_dict(torch.load('CNNIL_save_network1_39.p'))\n",
    "net_2.load_state_dict(torch.load('CNNIL_save_network2_39.p'))\n",
    "\n",
    "with torch.no_grad():\n",
    "    old_img = sr.load_image(im_lr[1])\n",
    "    print(im_lr[1])\n",
    "    dim = old_img.shape\n",
    "    print(dim)\n",
    "\n",
    "    new_img = np.zeros(dim)\n",
    "\n",
    "    #print(torch.unsqueeze(torch.transpose(torch.tensor(old_img,dtype=torch.float32),2,0),1).shape)\n",
    "    output_1, output_2 = net_1(torch.unsqueeze(torch.tensor(old_img,dtype=torch.float32),1))#(torch.unsqueeze(torch.transpose(torch.tensor(old_img,dtype=torch.float32),2,0),1))\n",
    "    #sr.save_image('something.nii', torch.squeeze(output_2,1).numpy())\n",
    "    \n",
    "    \n",
    "    # print(output_2.shape)\n",
    "    output_1, output_2 = net_2(torch.transpose(output_2,0,3))\n",
    "    print(output_2.shape)\n",
    "    # print(torch.transpose(torch.transpose(torch.squeeze(output_2,1),0,1),1,2).shape)\n",
    "    sr.save_image('something.nii', torch.transpose(torch.squeeze(output_2,1),2,0).numpy())\n",
    "\n",
    "\n",
    "# for i in range(dim[2]):\n",
    "    # net_1(torch.unsqueeze(torch.tensor(old_img[:,:,i]),0))\n",
    "\n"
   ]
  },
  {
   "cell_type": "code",
   "execution_count": 209,
   "metadata": {},
   "outputs": [
    {
     "name": "stdout",
     "output_type": "stream",
     "text": [
      "../data/CNNIL_nifti/LR_Full_test/29014_anat_rot0_0_0_tr0_0_0_scale_1_1_1.nii\n",
      "../data/CNNIL_nifti/Full_test/29014_anat_rot0_0_0_tr0_0_0_scale_1_1_1.nii\n",
      "(96, 128, 128)\n",
      "torch.Size([256, 1, 256, 192])\n"
     ]
    },
    {
     "data": {
      "text/plain": [
       "<matplotlib.image.AxesImage at 0x7f122551df40>"
      ]
     },
     "execution_count": 209,
     "metadata": {},
     "output_type": "execute_result"
    },
    {
     "data": {
      "image/png": "[encoded data removed]",
      "text/plain": [
       "<Figure size 432x288 with 2 Axes>"
      ]
     },
     "metadata": {
      "needs_background": "light"
     },
     "output_type": "display_data"
    }
   ],
   "source": [
    "import matplotlib.pyplot as plt\n",
    "\n",
    "print(im_lr[1])\n",
    "print(im_hr[1])\n",
    "print(sr.load_image(im_lr[1]).shape)\n",
    "print(output_2.shape)\n",
    "\n",
    "fig, axs = plt.subplots(1, 2)\n",
    "axs[0].imshow(torch.squeeze(torch.transpose(torch.transpose(torch.squeeze(output_2,1),0,1),1,2)[30,:,:],0))\n",
    "axs[1].imshow(sr.load_image(im_hr[1])[30,:,:])"
   ]
  },
  {
   "cell_type": "code",
   "execution_count": 70,
   "metadata": {},
   "outputs": [],
   "source": [
    "sr.save_image('something.nii', torch.squeeze(output_2,1).numpy())"
   ]
  },
  {
   "cell_type": "code",
   "execution_count": null,
   "metadata": {},
   "outputs": [],
   "source": [
    "\n",
    "# with torch.no_grad():\n",
    "#     comp={'psnr' : [], 'rmse' : []}\n",
    "#     for idx, [im_l, im_h] in enumerate(testing_generator_2):\n",
    "\n",
    "#         # Use SR model on low resolution image\n",
    "#         output_1, output_2 = net_2(im_l)\n",
    "\n",
    "#         # Upscale im_l to the same size as im_h\n",
    "#         im_l = torch.tensor(resize(im_l, im_h.shape, order=1, mode = 'symmetric'))\n",
    "\n",
    "#         # Calculate PSNR for bicubic\n",
    "#         diff = im_l - im_h\n",
    "#         rmse_b = np.sqrt((diff**2).mean())\n",
    "#         psnr_b = 20*np.log10(im_h.max()/rmse_b)\n",
    "\n",
    "#         #print(f'bicubic evaluation for {idx}: rms={rmse_b}, psnr={psnr_b}')\n",
    "\n",
    "#         # Calculate PSNR for SR\n",
    "#         diff = output_2 - im_h\n",
    "#         rmse_s = np.sqrt((diff**2).mean())\n",
    "#         psnr_s = 20*np.log10(im_h.max()/rmse_s)\n",
    "#         #print(f'SR evaluation for {idx}: rms={rmse_s}, psnr={psnr_s}')\n",
    "#         if idx % 50 == 0:\n",
    "#             comp['psnr'].append(psnr_s-psnr_b)\n",
    "#             comp['rmse'].append(rmse_s-rmse_b)\n",
    "\n",
    "#         # if save_pred:\n",
    "#         #     img_name = os.path.splitext(os.path.basename(i))[0]\n",
    "#         #     Image.fromarray(np.rint(im_h_sr).astype(np.uint8)).save(f\"{save_dir}/{img_name}_SR.png\")\n"
   ]
  },
  {
   "cell_type": "code",
   "execution_count": null,
   "metadata": {},
   "outputs": [],
   "source": []
  }
 ],
 "metadata": {
  "kernelspec": {
   "display_name": "Python 3.8.7 64-bit ('3.8.7')",
   "language": "python",
   "name": "python3"
  },
  "language_info": {
   "codemirror_mode": {
    "name": "ipython",
    "version": 3
   },
   "file_extension": ".py",
   "mimetype": "text/x-python",
   "name": "python",
   "nbconvert_exporter": "python",
   "pygments_lexer": "ipython3",
   "version": "3.8.7"
  },
  "orig_nbformat": 4,
  "vscode": {
   "interpreter": {
    "hash": "539b544e2c3fdc58492248d082a132f5e0b4fea63e914fb274c32873997cf2f6"
   }
  }
 },
 "nbformat": 4,
 "nbformat_minor": 2
}

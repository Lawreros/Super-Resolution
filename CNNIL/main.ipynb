{
 "cells": [
  {
   "cell_type": "markdown",
   "metadata": {},
   "source": [
    "# [Convolutional Neural Networks with Intermediate Loss for 3D Super-Resolution of CT and MRI Scans](https://arxiv.org/abs/2001.01330)"
   ]
  },
  {
   "cell_type": "markdown",
   "metadata": {},
   "source": [
    "This notebook is a replication/exploration of the paper linked above. Models were tested on the ABIDEII-BNI1 anatomical scans (subjects 29006 - 29011 for training, 29012 - 29015 for testing). This data can be found [here](http://fcon_1000.projects.nitrc.org/indi/abide/abide_II.html) in the Barrow Neurological Institute `Scan Data` link."
   ]
  },
  {
   "cell_type": "markdown",
   "metadata": {},
   "source": [
    "## Setup\n",
    "There is an assumed organization of the MRI files from ABIDEII-BNI1 in this exercise with respect to this folder. If you have these files in the correct folder, you should receive the same (or similar) results. The files are not provided in this repository for file size reasons. If this is not the case for you, change the references to these files in `SrGen` in the following code to the correct locations.\n",
    "\n",
    "```\n",
    "../data/CNNIL_nifti/\n",
    "                Raw_train/\n",
    "                    subject_29006.nii\n",
    "                    subject_29007.nii\n",
    "                    subject_29008.nii\n",
    "                    subject_29009.nii\n",
    "                    subject_29010.nii\n",
    "                    subject_29011.nii\n",
    "                Raw_test/\n",
    "                    subject_29012.nii\n",
    "                    subject_29013.nii\n",
    "                    subject_29014.nii\n",
    "                    subject_29015.nii\n",
    "```"
   ]
  },
  {
   "cell_type": "markdown",
   "metadata": {},
   "source": [
    "### Imports\n",
    "Like all good python scripts, we import a couple libraries. Note the importing of my own custom class `SrGen` for data loading/saving/organization. That is also in this repository, see the `/gen_utils/SrGen.py` for the source code."
   ]
  },
  {
   "cell_type": "code",
   "execution_count": 39,
   "metadata": {},
   "outputs": [],
   "source": [
    "import torch\n",
    "import torch.nn as nn\n",
    "import torch.optim as optim\n",
    "import os\n",
    "import numpy as np\n",
    "from skimage.transform import resize\n",
    "import matplotlib.pyplot as plt\n",
    "import sys\n",
    "from tqdm import tqdm\n",
    "import time\n",
    "sys.path.append('..') # Stupid thing Python makes you do to import from a sibling directory\n",
    "from gen_utils.SrGen import SrGen # Custom class for image generation"
   ]
  },
  {
   "cell_type": "markdown",
   "metadata": {},
   "source": [
    "## Define model\n",
    "Okay, the model described in the paper is actually quite easy to implement. They essentially are performing 3D SR through 2D SR across two different axes. In this case I label these axes `'hw'` and `'h' or 'w'`. You will see later how I use my custom `SrGen` class to convert a 3D MRI image into a collection of 2D images along different axes.\n",
    "For instantiating this model, when `axs = 'hw'` you wish to have a model which takes a given 2D matrix (a slice of the MRI) and double the height and width. For `axs = 'h'` you wish to double the height (number of rows), and for `axs = 'w'` you wish to double the width (number of columns).\n",
    "\n",
    "Note: This model only does 2x increase in resolution. If you wish to change the magnification you will have to change the number of output layers in `self.conv6` and `self.conv10`. You may also have to change the code in the `kern_upscale` method (haven't tested if it holds up)."
   ]
  },
  {
   "cell_type": "code",
   "execution_count": 40,
   "metadata": {},
   "outputs": [],
   "source": [
    "class CNNIL(nn.Module):\n",
    "    def __init__(self, upscale=2, axs = 'hw'):\n",
    "        super().__init__()\n",
    "        self.axs = axs\n",
    "\n",
    "        self.rel = nn.ReLU()\n",
    "        if axs == 'hw':\n",
    "            self.conv1 = nn.Conv2d(1,32,3, padding='same', bias=False)\n",
    "            self.conv2 = nn.Conv2d(32,32,3, padding='same', bias=False)\n",
    "            self.conv3 = nn.Conv2d(32,32,3, padding='same', bias=False)\n",
    "            self.conv4 = nn.Conv2d(32,32,3, padding='same', bias=False)\n",
    "            self.conv5 = nn.Conv2d(32,32,3, padding='same', bias=False)\n",
    "            self.conv6 = nn.Conv2d(32,4,3, padding='same', bias=False)\n",
    "            \n",
    "            # Upscale step occurs here\n",
    "\n",
    "            self.conv7 = nn.Conv2d(1,32,3, padding='same', bias=False)\n",
    "            self.conv8 = nn.Conv2d(32,32,3, padding='same', bias=False)\n",
    "            self.conv9 = nn.Conv2d(32,32,3, padding='same', bias=False)\n",
    "            self.conv10 = nn.Conv2d(32,1,3, padding='same', bias = False)\n",
    "        elif axs == 'h' or axs == 'w':\n",
    "            self.conv1 = nn.Conv2d(1,32,3, padding='same', bias=False)\n",
    "            self.conv2 = nn.Conv2d(32,32,3, padding='same', bias=False)\n",
    "            self.conv3 = nn.Conv2d(32,32,3, padding='same', bias=False)\n",
    "            self.conv4 = nn.Conv2d(32,32,3, padding='same', bias=False)\n",
    "            self.conv5 = nn.Conv2d(32,32,3, padding='same', bias=False)\n",
    "            self.conv6 = nn.Conv2d(32,2,3, padding='same', bias=False)\n",
    "            \n",
    "            # Upscale step occurs here\n",
    "\n",
    "            self.conv7 = nn.Conv2d(1,32,3, padding='same', bias=False)\n",
    "            self.conv8 = nn.Conv2d(32,32,3, padding='same', bias=False)\n",
    "            self.conv9 = nn.Conv2d(32,32,3, padding='same', bias=False)\n",
    "            self.conv10 = nn.Conv2d(32,1,3, padding='same', bias = False)\n",
    "\n",
    "    def forward(self, x):\n",
    "\n",
    "        x = self.rel(self.conv1(x))\n",
    "        \n",
    "        x_l = self.rel(self.conv2(x))\n",
    "        x_l = self.rel(self.conv3(x_l))\n",
    "        x_l = self.rel(self.conv4(x_l+x))\n",
    "        x_l = self.rel(self.conv5(x_l))\n",
    "        x_l = self.rel(self.conv6(x_l+x))\n",
    "\n",
    "        x_l = self.kern_upscale(x_l, axs = self.axs)\n",
    "\n",
    "        x = self.rel(self.conv7(x_l))\n",
    "        x_h = self.rel(self.conv8(x))\n",
    "        x_h = self.rel(self.conv9(x_h))\n",
    "        x_h = self.rel(self.conv10(x_h+x))\n",
    "\n",
    "        return x_l, x_h #Return both results for the loss function\n",
    "\n",
    "    @staticmethod\n",
    "    def kern_upscale(x, axs='hw'):\n",
    "        # Function to do the unique upscaling pattern they propose in\n",
    "        # the paper\n",
    "        s, c, h, w = [int(_) for _ in list(x.shape)]\n",
    "\n",
    "        if axs == 'hw':\n",
    "            c = int(c/2)\n",
    "\n",
    "            b = torch.cat(torch.unbind(x,1),2)\n",
    "            b = torch.reshape(b,(s,1,h*c,w*c))\n",
    "            b = torch.transpose(b,2,3)\n",
    "            b = torch.cat(torch.split(b,h,2),3)\n",
    "            b = torch.reshape(b,(s,1,h*c,w*c))\n",
    "            x_up = torch.transpose(b,2,3)\n",
    "\n",
    "        elif axs == 'h':\n",
    "            x_up = torch.unsqueeze(torch.cat(torch.unbind(x,2),1),1)\n",
    "            #x_up = torch.unsqueeze(x_up,0)\n",
    "        elif axs == 'w':\n",
    "            x_up = torch.cat(torch.unbind(x,3),1)\n",
    "            x_up = torch.unsqueeze(torch.transpose(x_up,1,2),1)\n",
    "            #x_up = torch.unsqueeze(x_up,0)\n",
    "        else:\n",
    "            print('No valid scaling dimension selected, returning False')\n",
    "            x_up = False\n",
    "\n",
    "        return x_up\n"
   ]
  },
  {
   "cell_type": "markdown",
   "metadata": {},
   "source": [
    "The below cell is for playing around with the methods described in the `kern_upscale` method, with an example 4D matrix in the same form the Pytorch uses."
   ]
  },
  {
   "cell_type": "code",
   "execution_count": 41,
   "metadata": {},
   "outputs": [
    {
     "name": "stdout",
     "output_type": "stream",
     "text": [
      "shape of a is torch.Size([1, 4, 3, 3])\n"
     ]
    },
    {
     "data": {
      "text/plain": [
       "torch.Size([1, 1, 6, 6])"
      ]
     },
     "execution_count": 41,
     "metadata": {},
     "output_type": "execute_result"
    }
   ],
   "source": [
    "# Testing of above kern_upscale function with 4D tensor (what the model will acually use)\n",
    "a = torch.tensor([[[[1,2,0.1],[3,4,0.2],[0.3,0.4,0.5]],\n",
    "                [[5,6,6.1],[7,8,6.2],[0.6,0.7,0.8]],\n",
    "                [[9,10,6.3],[11,12,6.4],[0.9,1.1,1.2]],\n",
    "                [[13,14,6.5],[15,16,6.6],[1.3,1.4,1.5]]]])\n",
    "print(f'shape of a is {a.shape}')\n",
    "\n",
    "b = torch.cat(torch.unbind(a,1),2)\n",
    "b = torch.reshape(b,(1,1,6,6))\n",
    "b = torch.transpose(b,2,3)\n",
    "b = torch.cat(torch.split(b,3,2),3)\n",
    "b = torch.reshape(b,(1,1,6,6))\n",
    "b = torch.transpose(b,2,3)\n",
    "\n",
    "# b = torch.transpose(b,2,3)\n",
    "# b = torch.cat(torch.split(b,2,2),3)\n",
    "# b = torch.transpose(torch.reshape(b,(1,1,6,6)),2,3)\n",
    "b.shape"
   ]
  },
  {
   "cell_type": "markdown",
   "metadata": {},
   "source": [
    "## Set Optimization Parameters\n",
    "Now that we have the model defined, we can instantiate it as the first block (`net_1`) and second block (`net_2`) of the CNN pipeline. I also define `intermediate_loss`, which is the loss function they discuss in the paper. They use the resulting images after the upscaling step and the final output to calculate loss in comparison to the \"true\" high resolution image."
   ]
  },
  {
   "cell_type": "code",
   "execution_count": 42,
   "metadata": {},
   "outputs": [],
   "source": [
    "net_1 = CNNIL(axs = 'hw')\n",
    "net_2 = CNNIL(axs = 'w')\n",
    "\n",
    "# \"... trained the CNN for 40 epochs, starting with a learning rate of 0.001 and decreasing\n",
    "# the learning rate to 0.0001 after the first 20 epochs\"\n",
    "optimizer_1 = optim.Adam(net_1.parameters(), lr=0.001)\n",
    "optimizer_2 = optim.Adam(net_2.parameters(), lr=0.001)\n",
    "\n",
    "# They have a custom loss function that incorporates the final results and the result\n",
    "# right after the upscaling step\n",
    "# https://discuss.pytorch.org/t/custom-loss-functions/29387\n",
    "\n",
    "def intermediate_loss(output_intermediate, output_final, target):\n",
    "    mae_loss = nn.L1Loss() #Built in mean absolute error loss function\n",
    "    loss = mae_loss(output_intermediate, target)+mae_loss(output_final, target)\n",
    "    return loss\n"
   ]
  },
  {
   "cell_type": "markdown",
   "metadata": {},
   "source": [
    "## Generate Data for Training\n",
    "This is where I get to show off my custom class for creating the 2D image patches used in training the first CNN block. In this implimentation I load all of the files in the `../data/CNNIL_nifti/Raw_train/` and scale a copy of each image down by a magintude of 2 along the first two axes using bilinear interpolation. From the original images (HR) samples of size `[14,14,1]` from each 3D image using step sizes of `[12,12,4]` are collected and saved as individual `.nii` files in `../data/CNNIL_nifti/HR_train_1/`. From the scaled down (or LR) images, patches of size `[7,7,1]` are take with step size `[6,6,4]` are collected and saved in `../data/CNNIL_nifti/LR_train_1/`. The LR and HR patches of the same relative locations are named the same things, so they can be loaded together during training of the model. You can also apply randomized translation (voxels) and rotation (degrees) along the different axes.\n",
    "\n",
    "WARNING: This will make a lot of files, as each patch is saved as a seperate `.nii` file. You should expect >2,000 files per MRI image. This is done to reduce overhead and RAM usage on personal computers."
   ]
  },
  {
   "cell_type": "code",
   "execution_count": 43,
   "metadata": {},
   "outputs": [
    {
     "name": "stdout",
     "output_type": "stream",
     "text": [
      "HR and LR file locations updated\n"
     ]
    }
   ],
   "source": [
    "sr_train_1 = SrGen('../data/CNNIL_nifti/Raw_train/','../data/CNNIL_nifti/HR_train_1/','../data/CNNIL_nifti/LR_train_1/')\n",
    "\n",
    "temp = sr_train_1.get_template() #Get the default template in order to tweak parameters\n",
    "temp['out_type'] = 'nii' #what format to save the resulting HR and LR files as\n",
    "temp['resolution'] = [2,2,1] #What magnitude to scale down each dimension of the image\n",
    "temp['translation'] = [0, 0, 0] #Range of voxels translation to be randomly selected along each axes. Ex. [2,3,0] will apply a random translation of -2 <= x <= 2 along the first dimension,\n",
    "                                # -3 < x < 3 along the second dimension, and 0 along the third dimension of each processed input image.\n",
    "temp['rotation'] = [0, 0, 0] #Range of degrees to random select rotation along each axes. Same idea as 'translation' setting, but with rotation being in degrees around each axes.\n",
    "temp['keep_blank'] = False, #Whether to keep patches which have >template['keep_blank'] ratio of non-zero values\n",
    "temp['same_size'] = False #Whether, after being scaled down, the LR image is scaled back up to its original size by the same method\n",
    "temp['patch'] = [14,14,1] #Size along each dimension of each patch. For reference: [x,y,z] when looking at the brain from the top down\n",
    "temp['step'] = [12,12,4] #Step size between patches taken\n",
    "sr_train_1.set_template(temp) #Pass the changed template back into the class\n",
    "\n",
    "\n",
    "# Run the commented line below to generate new patches/folders. If the files already exist in the specified directories, then run the `match_altered` command instead.\n",
    "# sr_train_1.run(clear=True, save=True)\n",
    "\n",
    "# Run command line below when patches already exist, in order to prevent pointless rerunning of data\n",
    "sr_train_1.match_altered(update=True, paths=False, sort=False)"
   ]
  },
  {
   "cell_type": "markdown",
   "metadata": {},
   "source": [
    "Now do the same with the second CNN block, this time only scaling the remaining axes down by 2"
   ]
  },
  {
   "cell_type": "code",
   "execution_count": 44,
   "metadata": {},
   "outputs": [
    {
     "name": "stdout",
     "output_type": "stream",
     "text": [
      "HR and LR file locations updated\n"
     ]
    }
   ],
   "source": [
    "sr_train_2 = SrGen('../data/CNNIL_nifti/Raw_train/','../data/CNNIL_nifti/HR_train_2/','../data/CNNIL_nifti/LR_train_2/')\n",
    "temp = sr_train_2.get_template()\n",
    "temp['out_type'] = 'nii'\n",
    "temp['resolution'] = [1,1,2]\n",
    "temp['translation'] = [0, 0, 0]\n",
    "temp['rotation'] = [0, 0, 0]\n",
    "temp['keep_blank'] = False\n",
    "temp['same_size'] = False\n",
    "temp['patch'] = [1,7,14] #[x,y,z] when looking at the brain from the top down\n",
    "temp['step'] = [4,6,12]\n",
    "sr_train_2.set_template(temp)\n",
    "\n",
    "# sr_train_2.run(clear=True, save=True)\n",
    "sr_train_2.match_altered(update=True, paths=False, sort=False)"
   ]
  },
  {
   "cell_type": "markdown",
   "metadata": {},
   "source": [
    "# Create Dataloader\n",
    "Now we create a Pytorch `Dataset`. Once again, my custom class makes this easier with the `load_image_pair` method, which will output the matched HR and LR patches as numpy arrays."
   ]
  },
  {
   "cell_type": "code",
   "execution_count": 45,
   "metadata": {},
   "outputs": [],
   "source": [
    "class Dataset(torch.utils.data.Dataset):\n",
    "    def __init__(self, sr_class, axs='hw'):\n",
    "        self.sr_class = sr_class\n",
    "        self.axs = axs\n",
    "\n",
    "        # In case I forget to run match_altered before pulling the class\n",
    "        if not sr_class.HR_files:\n",
    "            sr_class.match_altered(update=True)\n",
    "\n",
    "    def __len__(self):\n",
    "        return len(self.sr_class.HR_files)\n",
    "\n",
    "    def __getitem__(self, index):\n",
    "        Y, X = self.sr_class.load_image_pair(index)\n",
    "\n",
    "        # SR along two axes\n",
    "        if self.axs == 'hw':\n",
    "            X = torch.unsqueeze(torch.squeeze(torch.tensor(X, dtype=torch.float32),-1),0)\n",
    "            Y = torch.unsqueeze(torch.squeeze(torch.tensor(Y, dtype=torch.float32),-1),0)\n",
    "\n",
    "        # SR along one axis\n",
    "        elif self.axs == 'h':\n",
    "            X = torch.tensor(X, dtype=torch.float32)\n",
    "            Y = torch.tensor(Y, dtype=torch.float32)\n",
    "        elif self.axs == 'w':\n",
    "            X = torch.tensor(X, dtype=torch.float32)\n",
    "            Y = torch.tensor(Y, dtype=torch.float32)\n",
    "        else:\n",
    "            raise NotImplementedError(f'Super resolution along {self.axs} currently not supported')\n",
    "            \n",
    "        return X,Y"
   ]
  },
  {
   "cell_type": "markdown",
   "metadata": {},
   "source": [
    "## Create Dataloader for Training"
   ]
  },
  {
   "cell_type": "code",
   "execution_count": 46,
   "metadata": {},
   "outputs": [],
   "source": [
    "params = {'batch_size': 128,\n",
    "        'shuffle': True,\n",
    "        'num_workers': 2}\n",
    "\n",
    "training_set_1 = Dataset(sr_train_1, axs = 'hw')\n",
    "training_generator_1 = torch.utils.data.DataLoader(training_set_1, **params)\n",
    "\n",
    "\n",
    "training_set_2 = Dataset(sr_train_2, axs = 'w')\n",
    "training_generator_2 = torch.utils.data.DataLoader(training_set_2, **params)"
   ]
  },
  {
   "cell_type": "markdown",
   "metadata": {},
   "source": [
    "# Training Loop"
   ]
  },
  {
   "cell_type": "code",
   "execution_count": 47,
   "metadata": {},
   "outputs": [
    {
     "name": "stderr",
     "output_type": "stream",
     "text": [
      "  0%|          | 0/40 [00:00<?, ?it/s]"
     ]
    },
    {
     "name": "stdout",
     "output_type": "stream",
     "text": [
      "CNNIL_1 : epoch 0, loss mean: 32.42629266396547, loss: 20.510427474975586-116.09200286865234\n"
     ]
    },
    {
     "name": "stderr",
     "output_type": "stream",
     "text": [
      "  2%|▎         | 1/40 [00:29<18:55, 29.13s/it]"
     ]
    },
    {
     "name": "stdout",
     "output_type": "stream",
     "text": [
      "CNNIL_1 : epoch 1, loss mean: 22.08823409447303, loss: 18.944128036499023-24.752777099609375\n"
     ]
    },
    {
     "name": "stderr",
     "output_type": "stream",
     "text": [
      "  5%|▌         | 2/40 [00:59<18:52, 29.81s/it]"
     ]
    },
    {
     "name": "stdout",
     "output_type": "stream",
     "text": [
      "CNNIL_1 : epoch 2, loss mean: 21.522326942183014, loss: 19.380491256713867-23.652721405029297\n"
     ]
    },
    {
     "name": "stderr",
     "output_type": "stream",
     "text": [
      "  8%|▊         | 3/40 [01:29<18:34, 30.12s/it]"
     ]
    },
    {
     "name": "stdout",
     "output_type": "stream",
     "text": [
      "CNNIL_1 : epoch 3, loss mean: 21.336197152097, loss: 19.324630737304688-23.721221923828125\n"
     ]
    },
    {
     "name": "stderr",
     "output_type": "stream",
     "text": [
      " 10%|█         | 4/40 [01:59<17:59, 29.98s/it]"
     ]
    },
    {
     "name": "stdout",
     "output_type": "stream",
     "text": [
      "CNNIL_1 : epoch 4, loss mean: 21.129527621799046, loss: 19.522624969482422-22.99131965637207\n"
     ]
    },
    {
     "name": "stderr",
     "output_type": "stream",
     "text": [
      " 12%|█▎        | 5/40 [02:29<17:23, 29.81s/it]"
     ]
    },
    {
     "name": "stdout",
     "output_type": "stream",
     "text": [
      "CNNIL_1 : epoch 5, loss mean: 21.08857185820229, loss: 18.997209548950195-22.95809555053711\n"
     ]
    },
    {
     "name": "stderr",
     "output_type": "stream",
     "text": [
      " 15%|█▌        | 6/40 [03:00<17:10, 30.32s/it]"
     ]
    },
    {
     "name": "stdout",
     "output_type": "stream",
     "text": [
      "CNNIL_1 : epoch 6, loss mean: 21.00392094636575, loss: 19.15585708618164-23.113224029541016\n"
     ]
    },
    {
     "name": "stderr",
     "output_type": "stream",
     "text": [
      " 18%|█▊        | 7/40 [03:30<16:36, 30.21s/it]"
     ]
    },
    {
     "name": "stdout",
     "output_type": "stream",
     "text": [
      "CNNIL_1 : epoch 7, loss mean: 21.02322489583594, loss: 18.781932830810547-23.04938507080078\n"
     ]
    },
    {
     "name": "stderr",
     "output_type": "stream",
     "text": [
      " 20%|██        | 8/40 [04:01<16:14, 30.45s/it]"
     ]
    },
    {
     "name": "stdout",
     "output_type": "stream",
     "text": [
      "CNNIL_1 : epoch 8, loss mean: 20.94636709262163, loss: 18.929264068603516-23.202268600463867\n"
     ]
    },
    {
     "name": "stderr",
     "output_type": "stream",
     "text": [
      " 22%|██▎       | 9/40 [04:32<15:52, 30.73s/it]"
     ]
    },
    {
     "name": "stdout",
     "output_type": "stream",
     "text": [
      "CNNIL_1 : epoch 9, loss mean: 20.882266444018764, loss: 19.019004821777344-22.647184371948242\n"
     ]
    },
    {
     "name": "stderr",
     "output_type": "stream",
     "text": [
      " 25%|██▌       | 10/40 [05:03<15:19, 30.64s/it]"
     ]
    },
    {
     "name": "stdout",
     "output_type": "stream",
     "text": [
      "CNNIL_1 : epoch 10, loss mean: 21.124363279750206, loss: 19.076946258544922-23.601438522338867\n"
     ]
    },
    {
     "name": "stderr",
     "output_type": "stream",
     "text": [
      " 28%|██▊       | 11/40 [05:33<14:49, 30.68s/it]"
     ]
    },
    {
     "name": "stdout",
     "output_type": "stream",
     "text": [
      "CNNIL_1 : epoch 11, loss mean: 20.782297191456852, loss: 18.84222984313965-22.678512573242188\n"
     ]
    },
    {
     "name": "stderr",
     "output_type": "stream",
     "text": [
      " 30%|███       | 12/40 [06:04<14:16, 30.61s/it]"
     ]
    },
    {
     "name": "stdout",
     "output_type": "stream",
     "text": [
      "CNNIL_1 : epoch 12, loss mean: 20.752559449937607, loss: 19.28343391418457-22.513193130493164\n"
     ]
    },
    {
     "name": "stderr",
     "output_type": "stream",
     "text": [
      " 32%|███▎      | 13/40 [06:35<13:48, 30.69s/it]"
     ]
    },
    {
     "name": "stdout",
     "output_type": "stream",
     "text": [
      "CNNIL_1 : epoch 13, loss mean: 20.73335931239984, loss: 18.994762420654297-22.33751678466797\n"
     ]
    },
    {
     "name": "stderr",
     "output_type": "stream",
     "text": [
      " 35%|███▌      | 14/40 [07:05<13:16, 30.65s/it]"
     ]
    },
    {
     "name": "stdout",
     "output_type": "stream",
     "text": [
      "CNNIL_1 : epoch 14, loss mean: 20.744318896888668, loss: 18.603757858276367-22.726232528686523\n"
     ]
    },
    {
     "name": "stderr",
     "output_type": "stream",
     "text": [
      " 38%|███▊      | 15/40 [07:36<12:48, 30.75s/it]"
     ]
    },
    {
     "name": "stdout",
     "output_type": "stream",
     "text": [
      "CNNIL_1 : epoch 15, loss mean: 20.702923733963924, loss: 18.269989013671875-22.472352981567383\n"
     ]
    },
    {
     "name": "stderr",
     "output_type": "stream",
     "text": [
      " 40%|████      | 16/40 [08:08<12:20, 30.87s/it]"
     ]
    },
    {
     "name": "stdout",
     "output_type": "stream",
     "text": [
      "CNNIL_1 : epoch 16, loss mean: 20.680825608408348, loss: 18.49915313720703-22.6426944732666\n"
     ]
    },
    {
     "name": "stderr",
     "output_type": "stream",
     "text": [
      " 42%|████▎     | 17/40 [08:39<11:53, 31.02s/it]"
     ]
    },
    {
     "name": "stdout",
     "output_type": "stream",
     "text": [
      "CNNIL_1 : epoch 17, loss mean: 20.652787966605946, loss: 19.01215362548828-23.230907440185547\n"
     ]
    },
    {
     "name": "stderr",
     "output_type": "stream",
     "text": [
      " 45%|████▌     | 18/40 [09:09<11:18, 30.82s/it]"
     ]
    },
    {
     "name": "stdout",
     "output_type": "stream",
     "text": [
      "CNNIL_1 : epoch 18, loss mean: 20.618190806136173, loss: 18.453664779663086-22.11587142944336\n"
     ]
    },
    {
     "name": "stderr",
     "output_type": "stream",
     "text": [
      " 48%|████▊     | 19/40 [09:40<10:47, 30.83s/it]"
     ]
    },
    {
     "name": "stdout",
     "output_type": "stream",
     "text": [
      "CNNIL_1 : epoch 19, loss mean: 20.598100303584694, loss: 18.41936683654785-22.351743698120117\n"
     ]
    },
    {
     "name": "stderr",
     "output_type": "stream",
     "text": [
      " 50%|█████     | 20/40 [10:11<10:18, 30.92s/it]"
     ]
    },
    {
     "name": "stdout",
     "output_type": "stream",
     "text": [
      "CNNIL_1 : epoch 20, loss mean: 20.586923371013413, loss: 18.30691909790039-22.381488800048828\n"
     ]
    },
    {
     "name": "stderr",
     "output_type": "stream",
     "text": [
      " 52%|█████▎    | 21/40 [10:43<09:51, 31.12s/it]"
     ]
    },
    {
     "name": "stdout",
     "output_type": "stream",
     "text": [
      "CNNIL_1 : epoch 21, loss mean: 20.55005719926622, loss: 18.705142974853516-23.0019474029541\n"
     ]
    },
    {
     "name": "stderr",
     "output_type": "stream",
     "text": [
      " 55%|█████▌    | 22/40 [11:14<09:19, 31.07s/it]"
     ]
    },
    {
     "name": "stdout",
     "output_type": "stream",
     "text": [
      "CNNIL_1 : epoch 22, loss mean: 20.518387876005253, loss: 18.345478057861328-22.442541122436523\n"
     ]
    },
    {
     "name": "stderr",
     "output_type": "stream",
     "text": [
      " 57%|█████▊    | 23/40 [11:44<08:44, 30.87s/it]"
     ]
    },
    {
     "name": "stdout",
     "output_type": "stream",
     "text": [
      "CNNIL_1 : epoch 23, loss mean: 20.538445146674785, loss: 18.554502487182617-23.359207153320312\n"
     ]
    },
    {
     "name": "stderr",
     "output_type": "stream",
     "text": [
      " 60%|██████    | 24/40 [12:16<08:16, 31.03s/it]"
     ]
    },
    {
     "name": "stdout",
     "output_type": "stream",
     "text": [
      "CNNIL_1 : epoch 24, loss mean: 20.50107875237098, loss: 18.424861907958984-22.330385208129883\n"
     ]
    },
    {
     "name": "stderr",
     "output_type": "stream",
     "text": [
      " 62%|██████▎   | 25/40 [12:47<07:45, 31.02s/it]"
     ]
    },
    {
     "name": "stdout",
     "output_type": "stream",
     "text": [
      "CNNIL_1 : epoch 25, loss mean: 20.496042357550728, loss: 18.845840454101562-22.789379119873047\n"
     ]
    },
    {
     "name": "stderr",
     "output_type": "stream",
     "text": [
      " 65%|██████▌   | 26/40 [13:17<07:13, 30.97s/it]"
     ]
    },
    {
     "name": "stdout",
     "output_type": "stream",
     "text": [
      "CNNIL_1 : epoch 26, loss mean: 20.477977035392044, loss: 18.46038818359375-22.147790908813477\n"
     ]
    },
    {
     "name": "stderr",
     "output_type": "stream",
     "text": [
      " 68%|██████▊   | 27/40 [13:48<06:41, 30.91s/it]"
     ]
    },
    {
     "name": "stdout",
     "output_type": "stream",
     "text": [
      "CNNIL_1 : epoch 27, loss mean: 20.454397389012524, loss: 18.826208114624023-22.538049697875977\n"
     ]
    },
    {
     "name": "stderr",
     "output_type": "stream",
     "text": [
      " 70%|███████   | 28/40 [14:20<06:13, 31.09s/it]"
     ]
    },
    {
     "name": "stdout",
     "output_type": "stream",
     "text": [
      "CNNIL_1 : epoch 28, loss mean: 20.473509796664246, loss: 18.442975997924805-22.801353454589844\n"
     ]
    },
    {
     "name": "stderr",
     "output_type": "stream",
     "text": [
      " 72%|███████▎  | 29/40 [14:51<05:42, 31.17s/it]"
     ]
    },
    {
     "name": "stdout",
     "output_type": "stream",
     "text": [
      "CNNIL_1 : epoch 29, loss mean: 20.42919413248698, loss: 18.50565528869629-22.950969696044922\n"
     ]
    },
    {
     "name": "stderr",
     "output_type": "stream",
     "text": [
      " 75%|███████▌  | 30/40 [15:22<05:09, 30.99s/it]"
     ]
    },
    {
     "name": "stdout",
     "output_type": "stream",
     "text": [
      "CNNIL_1 : epoch 30, loss mean: 20.449252356830826, loss: 18.441572189331055-22.398868560791016\n"
     ]
    },
    {
     "name": "stderr",
     "output_type": "stream",
     "text": [
      " 78%|███████▊  | 31/40 [15:53<04:38, 30.99s/it]"
     ]
    },
    {
     "name": "stdout",
     "output_type": "stream",
     "text": [
      "CNNIL_1 : epoch 31, loss mean: 20.403526599590595, loss: 18.034263610839844-22.31856346130371\n"
     ]
    },
    {
     "name": "stderr",
     "output_type": "stream",
     "text": [
      " 80%|████████  | 32/40 [16:24<04:09, 31.21s/it]"
     ]
    },
    {
     "name": "stdout",
     "output_type": "stream",
     "text": [
      "CNNIL_1 : epoch 32, loss mean: 20.391304725255722, loss: 18.55729103088379-22.14704704284668\n"
     ]
    },
    {
     "name": "stderr",
     "output_type": "stream",
     "text": [
      " 82%|████████▎ | 33/40 [16:55<03:37, 31.01s/it]"
     ]
    },
    {
     "name": "stdout",
     "output_type": "stream",
     "text": [
      "CNNIL_1 : epoch 33, loss mean: 20.41669080196283, loss: 18.205318450927734-22.83870506286621\n"
     ]
    },
    {
     "name": "stderr",
     "output_type": "stream",
     "text": [
      " 85%|████████▌ | 34/40 [17:26<03:06, 31.12s/it]"
     ]
    },
    {
     "name": "stdout",
     "output_type": "stream",
     "text": [
      "CNNIL_1 : epoch 34, loss mean: 20.374195261898205, loss: 18.582351684570312-22.2811279296875\n"
     ]
    },
    {
     "name": "stderr",
     "output_type": "stream",
     "text": [
      " 88%|████████▊ | 35/40 [17:57<02:35, 31.11s/it]"
     ]
    },
    {
     "name": "stdout",
     "output_type": "stream",
     "text": [
      "CNNIL_1 : epoch 35, loss mean: 20.396509235740726, loss: 18.146268844604492-22.025407791137695\n"
     ]
    },
    {
     "name": "stderr",
     "output_type": "stream",
     "text": [
      " 90%|█████████ | 36/40 [18:28<02:04, 31.09s/it]"
     ]
    },
    {
     "name": "stdout",
     "output_type": "stream",
     "text": [
      "CNNIL_1 : epoch 36, loss mean: 20.372599088228664, loss: 17.97907829284668-22.308752059936523\n"
     ]
    },
    {
     "name": "stderr",
     "output_type": "stream",
     "text": [
      " 92%|█████████▎| 37/40 [19:00<01:33, 31.25s/it]"
     ]
    },
    {
     "name": "stdout",
     "output_type": "stream",
     "text": [
      "CNNIL_1 : epoch 37, loss mean: 20.363726950099327, loss: 18.83840560913086-21.970598220825195\n"
     ]
    },
    {
     "name": "stderr",
     "output_type": "stream",
     "text": [
      " 95%|█████████▌| 38/40 [19:31<01:02, 31.15s/it]"
     ]
    },
    {
     "name": "stdout",
     "output_type": "stream",
     "text": [
      "CNNIL_1 : epoch 38, loss mean: 20.355808298811954, loss: 18.29077911376953-22.70865821838379\n"
     ]
    },
    {
     "name": "stderr",
     "output_type": "stream",
     "text": [
      " 98%|█████████▊| 39/40 [20:02<00:31, 31.03s/it]"
     ]
    },
    {
     "name": "stdout",
     "output_type": "stream",
     "text": [
      "CNNIL_1 : epoch 39, loss mean: 20.3541963120811, loss: 18.623058319091797-22.430906295776367\n"
     ]
    },
    {
     "name": "stderr",
     "output_type": "stream",
     "text": [
      "100%|██████████| 40/40 [20:32<00:00, 30.81s/it]\n",
      "  0%|          | 0/40 [00:00<?, ?it/s]"
     ]
    },
    {
     "name": "stdout",
     "output_type": "stream",
     "text": [
      "CNNIL_2 : epoch 0, loss mean: 11.956213313983813, loss: 5.016570091247559-118.86410522460938\n"
     ]
    },
    {
     "name": "stderr",
     "output_type": "stream",
     "text": [
      "  2%|▎         | 1/40 [00:56<36:34, 56.28s/it]"
     ]
    },
    {
     "name": "stdout",
     "output_type": "stream",
     "text": [
      "CNNIL_2 : epoch 1, loss mean: 5.699861318818106, loss: 4.702746391296387-8.602746963500977\n"
     ]
    },
    {
     "name": "stderr",
     "output_type": "stream",
     "text": [
      "  5%|▌         | 2/40 [01:50<34:53, 55.08s/it]"
     ]
    },
    {
     "name": "stdout",
     "output_type": "stream",
     "text": [
      "CNNIL_2 : epoch 2, loss mean: 5.383472497065022, loss: 4.249868392944336-6.3718366622924805\n"
     ]
    },
    {
     "name": "stderr",
     "output_type": "stream",
     "text": [
      "  8%|▊         | 3/40 [02:45<33:52, 54.92s/it]"
     ]
    },
    {
     "name": "stdout",
     "output_type": "stream",
     "text": [
      "CNNIL_2 : epoch 3, loss mean: 5.304310942805091, loss: 4.231544494628906-7.789777755737305\n"
     ]
    },
    {
     "name": "stderr",
     "output_type": "stream",
     "text": [
      " 10%|█         | 4/40 [03:38<32:33, 54.27s/it]"
     ]
    },
    {
     "name": "stdout",
     "output_type": "stream",
     "text": [
      "CNNIL_2 : epoch 4, loss mean: 5.095137840093568, loss: 4.2370123863220215-5.983239650726318\n"
     ]
    },
    {
     "name": "stderr",
     "output_type": "stream",
     "text": [
      " 12%|█▎        | 5/40 [04:31<31:23, 53.80s/it]"
     ]
    },
    {
     "name": "stdout",
     "output_type": "stream",
     "text": [
      "CNNIL_2 : epoch 5, loss mean: 5.052207165490246, loss: 4.3863606452941895-6.277651786804199\n"
     ]
    },
    {
     "name": "stderr",
     "output_type": "stream",
     "text": [
      " 15%|█▌        | 6/40 [05:24<30:17, 53.44s/it]"
     ]
    },
    {
     "name": "stdout",
     "output_type": "stream",
     "text": [
      "CNNIL_2 : epoch 6, loss mean: 4.952985950050596, loss: 3.8357882499694824-5.97877311706543\n"
     ]
    },
    {
     "name": "stderr",
     "output_type": "stream",
     "text": [
      " 18%|█▊        | 7/40 [06:14<28:44, 52.25s/it]"
     ]
    },
    {
     "name": "stdout",
     "output_type": "stream",
     "text": [
      "CNNIL_2 : epoch 7, loss mean: 4.938456614980234, loss: 4.325093746185303-5.621645927429199\n"
     ]
    },
    {
     "name": "stderr",
     "output_type": "stream",
     "text": [
      " 20%|██        | 8/40 [07:05<27:46, 52.09s/it]"
     ]
    },
    {
     "name": "stdout",
     "output_type": "stream",
     "text": [
      "CNNIL_2 : epoch 8, loss mean: 4.89133507605587, loss: 4.110595703125-5.760623931884766\n"
     ]
    },
    {
     "name": "stderr",
     "output_type": "stream",
     "text": [
      " 22%|██▎       | 9/40 [07:56<26:40, 51.64s/it]"
     ]
    },
    {
     "name": "stdout",
     "output_type": "stream",
     "text": [
      "CNNIL_2 : epoch 9, loss mean: 4.8825617693443375, loss: 4.057065010070801-5.741398811340332\n"
     ]
    },
    {
     "name": "stderr",
     "output_type": "stream",
     "text": [
      " 25%|██▌       | 10/40 [08:46<25:37, 51.25s/it]"
     ]
    },
    {
     "name": "stdout",
     "output_type": "stream",
     "text": [
      "CNNIL_2 : epoch 10, loss mean: 4.836682416419902, loss: 4.091468811035156-5.547138214111328\n"
     ]
    },
    {
     "name": "stderr",
     "output_type": "stream",
     "text": [
      " 28%|██▊       | 11/40 [09:38<24:50, 51.39s/it]"
     ]
    },
    {
     "name": "stdout",
     "output_type": "stream",
     "text": [
      "CNNIL_2 : epoch 11, loss mean: 4.81215904227775, loss: 4.032651901245117-5.687994956970215\n"
     ]
    },
    {
     "name": "stderr",
     "output_type": "stream",
     "text": [
      " 30%|███       | 12/40 [10:30<24:02, 51.51s/it]"
     ]
    },
    {
     "name": "stdout",
     "output_type": "stream",
     "text": [
      "CNNIL_2 : epoch 12, loss mean: 4.823900793369931, loss: 4.06928825378418-6.814850807189941\n"
     ]
    },
    {
     "name": "stderr",
     "output_type": "stream",
     "text": [
      " 32%|███▎      | 13/40 [11:20<23:00, 51.13s/it]"
     ]
    },
    {
     "name": "stdout",
     "output_type": "stream",
     "text": [
      "CNNIL_2 : epoch 13, loss mean: 4.765976574153779, loss: 4.004851341247559-5.554683685302734\n"
     ]
    },
    {
     "name": "stderr",
     "output_type": "stream",
     "text": [
      " 35%|███▌      | 14/40 [12:11<22:11, 51.21s/it]"
     ]
    },
    {
     "name": "stdout",
     "output_type": "stream",
     "text": [
      "CNNIL_2 : epoch 14, loss mean: 4.756747726658182, loss: 4.110367774963379-5.525012969970703\n"
     ]
    },
    {
     "name": "stderr",
     "output_type": "stream",
     "text": [
      " 38%|███▊      | 15/40 [13:02<21:14, 51.00s/it]"
     ]
    },
    {
     "name": "stdout",
     "output_type": "stream",
     "text": [
      "CNNIL_2 : epoch 15, loss mean: 4.736506960104686, loss: 3.746397018432617-5.495760917663574\n"
     ]
    },
    {
     "name": "stderr",
     "output_type": "stream",
     "text": [
      " 40%|████      | 16/40 [13:53<20:25, 51.05s/it]"
     ]
    },
    {
     "name": "stdout",
     "output_type": "stream",
     "text": [
      "CNNIL_2 : epoch 16, loss mean: 4.7333729110862945, loss: 4.006560325622559-5.881702423095703\n"
     ]
    },
    {
     "name": "stderr",
     "output_type": "stream",
     "text": [
      " 42%|████▎     | 17/40 [14:43<19:28, 50.81s/it]"
     ]
    },
    {
     "name": "stdout",
     "output_type": "stream",
     "text": [
      "CNNIL_2 : epoch 17, loss mean: 4.700200109098729, loss: 3.986142635345459-5.622200012207031\n"
     ]
    },
    {
     "name": "stderr",
     "output_type": "stream",
     "text": [
      " 45%|████▌     | 18/40 [15:35<18:45, 51.14s/it]"
     ]
    },
    {
     "name": "stdout",
     "output_type": "stream",
     "text": [
      "CNNIL_2 : epoch 18, loss mean: 4.704180375214107, loss: 3.926933526992798-5.424560546875\n"
     ]
    },
    {
     "name": "stderr",
     "output_type": "stream",
     "text": [
      " 48%|████▊     | 19/40 [16:25<17:43, 50.66s/it]"
     ]
    },
    {
     "name": "stdout",
     "output_type": "stream",
     "text": [
      "CNNIL_2 : epoch 19, loss mean: 4.692574290342109, loss: 4.1047515869140625-5.54669189453125\n"
     ]
    },
    {
     "name": "stderr",
     "output_type": "stream",
     "text": [
      " 50%|█████     | 20/40 [17:17<17:03, 51.19s/it]"
     ]
    },
    {
     "name": "stdout",
     "output_type": "stream",
     "text": [
      "CNNIL_2 : epoch 20, loss mean: 4.666231320725939, loss: 3.787747859954834-5.278238296508789\n"
     ]
    },
    {
     "name": "stderr",
     "output_type": "stream",
     "text": [
      " 52%|█████▎    | 21/40 [18:08<16:08, 50.97s/it]"
     ]
    },
    {
     "name": "stdout",
     "output_type": "stream",
     "text": [
      "CNNIL_2 : epoch 21, loss mean: 4.664186021994334, loss: 4.02866268157959-5.459961891174316\n"
     ]
    },
    {
     "name": "stderr",
     "output_type": "stream",
     "text": [
      " 55%|█████▌    | 22/40 [18:58<15:15, 50.84s/it]"
     ]
    },
    {
     "name": "stdout",
     "output_type": "stream",
     "text": [
      "CNNIL_2 : epoch 22, loss mean: 4.702468857956739, loss: 3.881432056427002-6.494865417480469\n"
     ]
    },
    {
     "name": "stderr",
     "output_type": "stream",
     "text": [
      " 57%|█████▊    | 23/40 [19:50<14:30, 51.19s/it]"
     ]
    },
    {
     "name": "stdout",
     "output_type": "stream",
     "text": [
      "CNNIL_2 : epoch 23, loss mean: 4.625366499257642, loss: 3.8931760787963867-5.398829460144043\n"
     ]
    },
    {
     "name": "stderr",
     "output_type": "stream",
     "text": [
      " 60%|██████    | 24/40 [20:40<13:29, 50.61s/it]"
     ]
    },
    {
     "name": "stdout",
     "output_type": "stream",
     "text": [
      "CNNIL_2 : epoch 24, loss mean: 4.634857920209146, loss: 3.8203511238098145-5.588902473449707\n"
     ]
    },
    {
     "name": "stderr",
     "output_type": "stream",
     "text": [
      " 62%|██████▎   | 25/40 [21:29<12:33, 50.24s/it]"
     ]
    },
    {
     "name": "stdout",
     "output_type": "stream",
     "text": [
      "CNNIL_2 : epoch 25, loss mean: 4.619888413532088, loss: 3.8157296180725098-5.271595001220703\n"
     ]
    },
    {
     "name": "stderr",
     "output_type": "stream",
     "text": [
      " 65%|██████▌   | 26/40 [22:18<11:40, 50.04s/it]"
     ]
    },
    {
     "name": "stdout",
     "output_type": "stream",
     "text": [
      "CNNIL_2 : epoch 26, loss mean: 4.6185127685740435, loss: 3.7189769744873047-5.378326416015625\n"
     ]
    },
    {
     "name": "stderr",
     "output_type": "stream",
     "text": [
      " 68%|██████▊   | 27/40 [23:08<10:50, 50.00s/it]"
     ]
    },
    {
     "name": "stdout",
     "output_type": "stream",
     "text": [
      "CNNIL_2 : epoch 27, loss mean: 4.60192167985767, loss: 3.890613317489624-5.636850357055664\n"
     ]
    },
    {
     "name": "stderr",
     "output_type": "stream",
     "text": [
      " 70%|███████   | 28/40 [23:58<09:59, 49.95s/it]"
     ]
    },
    {
     "name": "stdout",
     "output_type": "stream",
     "text": [
      "CNNIL_2 : epoch 28, loss mean: 4.61536959815479, loss: 4.031416893005371-5.36199426651001\n"
     ]
    },
    {
     "name": "stderr",
     "output_type": "stream",
     "text": [
      " 72%|███████▎  | 29/40 [24:49<09:12, 50.23s/it]"
     ]
    },
    {
     "name": "stdout",
     "output_type": "stream",
     "text": [
      "CNNIL_2 : epoch 29, loss mean: 4.588112024625815, loss: 3.8772315979003906-5.414231777191162\n"
     ]
    },
    {
     "name": "stderr",
     "output_type": "stream",
     "text": [
      " 75%|███████▌  | 30/40 [25:38<08:17, 49.78s/it]"
     ]
    },
    {
     "name": "stdout",
     "output_type": "stream",
     "text": [
      "CNNIL_2 : epoch 30, loss mean: 4.592652548191159, loss: 3.7963008880615234-5.584492206573486\n"
     ]
    },
    {
     "name": "stderr",
     "output_type": "stream",
     "text": [
      " 78%|███████▊  | 31/40 [26:27<07:25, 49.46s/it]"
     ]
    },
    {
     "name": "stdout",
     "output_type": "stream",
     "text": [
      "CNNIL_2 : epoch 31, loss mean: 4.580143932056226, loss: 3.920642614364624-5.20667839050293\n"
     ]
    },
    {
     "name": "stderr",
     "output_type": "stream",
     "text": [
      " 80%|████████  | 32/40 [27:16<06:34, 49.33s/it]"
     ]
    },
    {
     "name": "stdout",
     "output_type": "stream",
     "text": [
      "CNNIL_2 : epoch 32, loss mean: 4.577324937816402, loss: 3.6038126945495605-5.339774131774902\n"
     ]
    },
    {
     "name": "stderr",
     "output_type": "stream",
     "text": [
      " 82%|████████▎ | 33/40 [28:06<05:47, 49.70s/it]"
     ]
    },
    {
     "name": "stdout",
     "output_type": "stream",
     "text": [
      "CNNIL_2 : epoch 33, loss mean: 4.563236216914074, loss: 3.9094347953796387-5.399979591369629\n"
     ]
    },
    {
     "name": "stderr",
     "output_type": "stream",
     "text": [
      " 85%|████████▌ | 34/40 [28:57<04:59, 49.99s/it]"
     ]
    },
    {
     "name": "stdout",
     "output_type": "stream",
     "text": [
      "CNNIL_2 : epoch 34, loss mean: 4.565314667925522, loss: 3.737732410430908-5.361367702484131\n"
     ]
    },
    {
     "name": "stderr",
     "output_type": "stream",
     "text": [
      " 88%|████████▊ | 35/40 [29:46<04:09, 49.83s/it]"
     ]
    },
    {
     "name": "stdout",
     "output_type": "stream",
     "text": [
      "CNNIL_2 : epoch 35, loss mean: 4.557542683962284, loss: 3.6684207916259766-5.446324348449707\n"
     ]
    },
    {
     "name": "stderr",
     "output_type": "stream",
     "text": [
      " 90%|█████████ | 36/40 [30:37<03:21, 50.26s/it]"
     ]
    },
    {
     "name": "stdout",
     "output_type": "stream",
     "text": [
      "CNNIL_2 : epoch 36, loss mean: 4.55537371554788, loss: 3.7579405307769775-5.305699348449707\n"
     ]
    },
    {
     "name": "stderr",
     "output_type": "stream",
     "text": [
      " 92%|█████████▎| 37/40 [31:28<02:31, 50.33s/it]"
     ]
    },
    {
     "name": "stdout",
     "output_type": "stream",
     "text": [
      "CNNIL_2 : epoch 37, loss mean: 4.543184033407973, loss: 3.78543758392334-5.402949333190918\n"
     ]
    },
    {
     "name": "stderr",
     "output_type": "stream",
     "text": [
      " 95%|█████████▌| 38/40 [32:20<01:41, 50.73s/it]"
     ]
    },
    {
     "name": "stdout",
     "output_type": "stream",
     "text": [
      "CNNIL_2 : epoch 38, loss mean: 4.534762490879405, loss: 3.76162052154541-5.475910186767578\n"
     ]
    },
    {
     "name": "stderr",
     "output_type": "stream",
     "text": [
      " 98%|█████████▊| 39/40 [33:10<00:50, 50.61s/it]"
     ]
    },
    {
     "name": "stdout",
     "output_type": "stream",
     "text": [
      "CNNIL_2 : epoch 39, loss mean: 4.557323035427682, loss: 3.878964900970459-5.732965469360352\n"
     ]
    },
    {
     "name": "stderr",
     "output_type": "stream",
     "text": [
      "100%|██████████| 40/40 [34:02<00:00, 51.05s/it]\n"
     ]
    }
   ],
   "source": [
    "max_epochs = 40\n",
    "save_rate = 10 #How often to save the model weights (in case your computer runs out of RAM or something interupts the training process)\n",
    "save_prefix = \"./CNNIL_save\" #Where you want to save the model weights\n",
    "\n",
    "# Store loss values\n",
    "mean_loss = {'CNNIL_1': [],\n",
    "            'CNNIL_2':[]}\n",
    "\n",
    "for epoch in tqdm(range(max_epochs)):\n",
    "    losses = []\n",
    "\n",
    "    # Training\n",
    "    count = 0\n",
    "    for inp, goal in training_generator_1:\n",
    "        optimizer_1.zero_grad()\n",
    "\n",
    "        output_1, output_2 = net_1(inp)\n",
    "\n",
    "        loss = intermediate_loss(output_1,output_2,goal)\n",
    "        loss.backward()\n",
    "        optimizer_1.step()\n",
    "        losses.append(loss.item())\n",
    "        count = count+1\n",
    "    \n",
    "\n",
    "    if (epoch % save_rate == 0) or epoch == (max_epochs-1):\n",
    "        torch.save(net_1.state_dict(), f'{save_prefix}_network1_{epoch}.p')\n",
    "    print(f'CNNIL_1 : epoch {epoch}, loss mean: {sum(losses)/len(losses)}, loss: {min(losses)}-{max(losses)}')\n",
    "    mean_loss[\"CNNIL_1\"].append(sum(losses)/len(losses))\n",
    "\n",
    "    # Give computer time to cool down\n",
    "    time.sleep(10)\n",
    "\n",
    "\n",
    "for epoch in tqdm(range(max_epochs)):\n",
    "    losses = []\n",
    "\n",
    "    # Training\n",
    "    count = 0\n",
    "    for inp, goal in training_generator_2:\n",
    "        optimizer_2.zero_grad()\n",
    "\n",
    "        output_1, output_2 = net_2(inp)\n",
    "\n",
    "        loss = intermediate_loss(output_1,output_2,goal)\n",
    "        loss.backward()\n",
    "        optimizer_2.step()\n",
    "        losses.append(loss.item())\n",
    "        count = count+1\n",
    "    \n",
    "\n",
    "    if (epoch % save_rate == 0) or epoch == (max_epochs-1):\n",
    "        torch.save(net_2.state_dict(), f'{save_prefix}_network2_{epoch}.p')\n",
    "    print(f'CNNIL_2 : epoch {epoch}, loss mean: {sum(losses)/len(losses)}, loss: {min(losses)}-{max(losses)}')\n",
    "    mean_loss[\"CNNIL_2\"].append(sum(losses)/len(losses))\n",
    "\n",
    "    # Give computer time to cool down\n",
    "    time.sleep(10)\n"
   ]
  },
  {
   "cell_type": "markdown",
   "metadata": {},
   "source": [
    "### Sanity Check\n",
    "Let's plot the mean loss values for each epoch to make sure that they are going down"
   ]
  },
  {
   "cell_type": "code",
   "execution_count": 48,
   "metadata": {},
   "outputs": [
    {
     "data": {
      "text/plain": [
       "Text(0.5, 1.0, 'Mean Loss for Second CNN Block')"
      ]
     },
     "execution_count": 48,
     "metadata": {},
     "output_type": "execute_result"
    },
    {
     "data": {
      "image/png": "[encoded data removed]",
      "text/plain": [
       "<Figure size 432x288 with 2 Axes>"
      ]
     },
     "metadata": {
      "needs_background": "light"
     },
     "output_type": "display_data"
    }
   ],
   "source": [
    "fig, axs = plt.subplots(1, 2)\n",
    "axs[0].plot([x for x in range(len(mean_loss[\"CNNIL_1\"]))],mean_loss[\"CNNIL_1\"])\n",
    "axs[0].set_title('Mean Loss for First CNN Block')\n",
    "axs[1].plot([x for x in range(len(mean_loss[\"CNNIL_2\"]))],mean_loss[\"CNNIL_2\"])\n",
    "axs[1].set_title('Mean Loss for Second CNN Block')"
   ]
  },
  {
   "cell_type": "markdown",
   "metadata": {},
   "source": [
    "## Testing Model\n",
    "Now let's do the same thing as training but with the data in our testing folder that we set aside to not be used in training."
   ]
  },
  {
   "cell_type": "code",
   "execution_count": 49,
   "metadata": {},
   "outputs": [
    {
     "name": "stdout",
     "output_type": "stream",
     "text": [
      "HR and LR file locations updated\n",
      "HR and LR file locations updated\n"
     ]
    }
   ],
   "source": [
    "# Generate testing data for both axes\n",
    "sr_test_1 = SrGen('../data/CNNIL_nifti/Raw_test/','../data/CNNIL_nifti/HR_test_1/','../data/CNNIL_nifti/LR_test_1/')\n",
    "\n",
    "temp = sr_test_1.get_template()\n",
    "temp['out_type'] = 'nii'\n",
    "temp['resolution'] = [2,2,1]\n",
    "temp['translation'] = [0, 0, 0]\n",
    "temp['rotation'] = [0, 0, 0]\n",
    "temp['keep_blank'] = False\n",
    "temp['same_size'] = False\n",
    "temp['patch'] = [14,14,1] #[x,y,z] when looking at the brain from the top down\n",
    "temp['step'] = [12,12,4]\n",
    "sr_test_1.set_template(temp)\n",
    "\n",
    "#sr_test_1.run(clear=True, save=True)\n",
    "sr_test_1.match_altered(update=True, paths=False, sort=False)\n",
    "\n",
    "\n",
    "sr_test_2 = SrGen('../data/CNNIL_nifti/Raw_test/','../data/CNNIL_nifti/HR_test_2/','../data/CNNIL_nifti/LR_test_2/')\n",
    "temp = sr_test_2.get_template()\n",
    "temp['out_type'] = 'nii'\n",
    "temp['resolution'] = [1,1,2]\n",
    "temp['translation'] = [0, 0, 0]\n",
    "temp['rotation'] = [0, 0, 0]\n",
    "temp['keep_blank'] = False\n",
    "temp['same_size'] = False\n",
    "temp['patch'] = [1,7,14] #[x,y,z] when looking at the brain from the top down\n",
    "temp['step'] = [4,6,12]\n",
    "sr_test_2.set_template(temp)\n",
    "\n",
    "#sr_test_2.run(clear=True, save=True)\n",
    "sr_test_2.match_altered(update=True, paths=False, sort=False)\n"
   ]
  },
  {
   "cell_type": "code",
   "execution_count": 50,
   "metadata": {},
   "outputs": [],
   "source": [
    "params_t = {'batch_size': 1,\n",
    "        'shuffle': False,\n",
    "        'num_workers': 2}\n",
    "\n",
    "testing_set_1 = Dataset(sr_test_1, axs = 'hw')\n",
    "testing_generator_1 = torch.utils.data.DataLoader(testing_set_1, **params_t)\n",
    "\n",
    "\n",
    "testing_set_2 = Dataset(sr_test_2, axs = 'w')\n",
    "testing_generator_2 = torch.utils.data.DataLoader(testing_set_2, **params_t)"
   ]
  },
  {
   "cell_type": "markdown",
   "metadata": {},
   "source": [
    "#### Run both datasets through the model\n",
    "Now that we have a model trained, let's test it! First lets look at the first CNN block and compare it to simple bilinear interpolation. We do this through calculation of the Peak Signal to Noise Ratio (PSNR) of both methods compared to the \"true\" HR image. We then look at the difference between the PSNR for both method by finding their difference."
   ]
  },
  {
   "cell_type": "code",
   "execution_count": 51,
   "metadata": {},
   "outputs": [],
   "source": [
    "# Load trained models:\n",
    "net_1.load_state_dict(torch.load('CNNIL_save_network1_39.p'))\n",
    "\n",
    "\n",
    "with torch.no_grad():\n",
    "    comp={'psnr' : [], 'rmse' : []}\n",
    "    for idx, [im_l, im_h] in enumerate(testing_generator_1):\n",
    "\n",
    "        # Use SR model on low resolution image\n",
    "        output_1, output_2 = net_1(im_l)\n",
    "\n",
    "        # Upscale im_l to the same size as im_h\n",
    "        im_l = torch.tensor(resize(im_l, im_h.shape, order=1, mode = 'symmetric'))\n",
    "\n",
    "        # Calculate PSNR for bicubic\n",
    "        diff = im_l - im_h\n",
    "        rmse_b = np.sqrt((diff**2).mean())\n",
    "        psnr_b = 20*np.log10(im_h.max()/rmse_b)\n",
    "\n",
    "        #print(f'bicubic evaluation for {idx}: rms={rmse_b}, psnr={psnr_b}')\n",
    "\n",
    "        # Calculate PSNR for SR\n",
    "        diff = output_2 - im_h\n",
    "        rmse_s = np.sqrt((diff**2).mean())\n",
    "        psnr_s = 20*np.log10(im_h.max()/rmse_s)\n",
    "        #print(f'SR evaluation for {idx}: rms={rmse_s}, psnr={psnr_s}')\n",
    "        if idx % 50 == 0:\n",
    "            comp['psnr'].append(psnr_s-psnr_b)\n",
    "            comp['rmse'].append(rmse_s-rmse_b)\n"
   ]
  },
  {
   "cell_type": "code",
   "execution_count": 52,
   "metadata": {},
   "outputs": [
    {
     "data": {
      "text/plain": [
       "Text(0.5, 1.0, 'RMSE: SR - BiC')"
      ]
     },
     "execution_count": 52,
     "metadata": {},
     "output_type": "execute_result"
    },
    {
     "data": {
      "image/png": "[encoded data removed]",
      "text/plain": [
       "<Figure size 432x288 with 2 Axes>"
      ]
     },
     "metadata": {
      "needs_background": "light"
     },
     "output_type": "display_data"
    }
   ],
   "source": [
    "# Sanity check, plot a histogram of how well the SR image performed compared to the Bicubic comparison\n",
    "fig, axs = plt.subplots(1, 2)\n",
    "axs[0].hist([float(x) for x in comp['psnr']], bins=10)\n",
    "axs[0].set_title('PSNR: SR - BiC')\n",
    "axs[1].hist([float(x) for x in comp['rmse']], bins=10)\n",
    "axs[1].set_title('RMSE: SR - BiC')"
   ]
  },
  {
   "cell_type": "markdown",
   "metadata": {},
   "source": [
    "Awesome, a positive result in the first histogram and a negative in the second is what we want! Now we do the same with the second CNN block:"
   ]
  },
  {
   "cell_type": "code",
   "execution_count": 53,
   "metadata": {},
   "outputs": [],
   "source": [
    "# Load trained models:\n",
    "net_2.load_state_dict(torch.load('CNNIL_save_network2_39.p'))\n",
    "\n",
    "\n",
    "with torch.no_grad():\n",
    "    comp={'psnr' : [], 'rmse' : []}\n",
    "    for idx, [im_l, im_h] in enumerate(testing_generator_2):\n",
    "\n",
    "        # Use SR model on low resolution image\n",
    "        output_1, output_2 = net_2(im_l)\n",
    "\n",
    "        # Upscale im_l to the same size as im_h\n",
    "        im_l = torch.tensor(resize(im_l, im_h.shape, order=1, mode = 'symmetric'))\n",
    "\n",
    "        # Calculate PSNR for bicubic\n",
    "        diff = im_l - im_h\n",
    "        rmse_b = np.sqrt((diff**2).mean())\n",
    "        psnr_b = 20*np.log10(im_h.max()/rmse_b)\n",
    "\n",
    "        #print(f'bicubic evaluation for {idx}: rms={rmse_b}, psnr={psnr_b}')\n",
    "\n",
    "        # Calculate PSNR for SR\n",
    "        diff = output_2 - im_h\n",
    "        rmse_s = np.sqrt((diff**2).mean())\n",
    "        psnr_s = 20*np.log10(im_h.max()/rmse_s)\n",
    "        #print(f'SR evaluation for {idx}: rms={rmse_s}, psnr={psnr_s}')\n",
    "        if idx % 50 == 0:\n",
    "            comp['psnr'].append(psnr_s-psnr_b)\n",
    "            comp['rmse'].append(rmse_s-rmse_b)\n"
   ]
  },
  {
   "cell_type": "code",
   "execution_count": 54,
   "metadata": {},
   "outputs": [
    {
     "data": {
      "text/plain": [
       "Text(0.5, 1.0, 'RMSE: SR - BiC')"
      ]
     },
     "execution_count": 54,
     "metadata": {},
     "output_type": "execute_result"
    },
    {
     "data": {
      "image/png": "[encoded data removed]",
      "text/plain": [
       "<Figure size 432x288 with 2 Axes>"
      ]
     },
     "metadata": {
      "needs_background": "light"
     },
     "output_type": "display_data"
    }
   ],
   "source": [
    "# Sanity check, plot a histogram of how well the SR image performed compared to the Bicubic comparison\n",
    "fig, axs = plt.subplots(1, 2)\n",
    "axs[0].hist([float(x) for x in comp['psnr']], bins=10)\n",
    "axs[0].set_title('PSNR: SR - BiC')\n",
    "axs[1].hist([float(x) for x in comp['rmse']], bins=10)\n",
    "axs[1].set_title('RMSE: SR - BiC')"
   ]
  },
  {
   "cell_type": "markdown",
   "metadata": {},
   "source": [
    "# Final Application\n",
    "\n",
    "Okay, now lets try things on whole `.nii` images, instead of patches! We do the same as before, but this time don't take any patches, just the whole image. You should be able to put just about any `.nii` image into the input folder and the model will work."
   ]
  },
  {
   "cell_type": "code",
   "execution_count": 55,
   "metadata": {},
   "outputs": [
    {
     "name": "stdout",
     "output_type": "stream",
     "text": [
      "HR and LR file locations updated\n"
     ]
    }
   ],
   "source": [
    "# Generate testing data for both axes\n",
    "sr = SrGen('../data/CNNIL_nifti/Raw_test/','../data/CNNIL_nifti/Full_test/','../data/CNNIL_nifti/LR_Full_test/')\n",
    "\n",
    "temp = sr.get_template()\n",
    "temp['out_type'] = 'nii'\n",
    "temp['resolution'] = [2,2,2]\n",
    "temp['translation'] = [0, 0, 0]\n",
    "temp['rotation'] = [0, 0, 0]\n",
    "temp['keep_blank'] = False\n",
    "temp['same_size'] = False\n",
    "\n",
    "sr.set_template(temp)\n",
    "\n",
    "#sr.run(clear=True, save=True)\n",
    "sr.match_altered(update=True, paths=False, sort=False)\n",
    "\n",
    "\n",
    "params_t = {'batch_size': 1,\n",
    "        'shuffle': False,\n",
    "        'num_workers': 2}\n",
    "\n",
    "full_img_generator = Dataset(sr, axs = 'hw')"
   ]
  },
  {
   "cell_type": "markdown",
   "metadata": {},
   "source": [
    "### Use the models for SR of MRI images and calculate PSNR"
   ]
  },
  {
   "cell_type": "code",
   "execution_count": 56,
   "metadata": {},
   "outputs": [],
   "source": [
    "# Load trained models:\n",
    "net_1.load_state_dict(torch.load('CNNIL_save_network1_39.p'))\n",
    "net_2.load_state_dict(torch.load('CNNIL_save_network2_39.p'))\n",
    "\n",
    "# Where or not to save the output SR images, if None then don't save any:\n",
    "save_pre = './SR_images'\n",
    "\n",
    "\n",
    "with torch.no_grad():\n",
    "    comp={'psnr' : [], 'rmse' : []}\n",
    "    for idx, [im_l, im_h] in enumerate(full_img_generator):\n",
    "\n",
    "        output_1, output_2 = net_1(torch.transpose(im_l,0,1))\n",
    "        output_1, output_2 = net_2(torch.transpose(output_2,0,3))\n",
    "        output_2 = torch.transpose(torch.squeeze(output_2,1),2,0)\n",
    "\n",
    "        # Upscale im_l to the same size as im_h\n",
    "        im_l = torch.tensor(resize(im_l, im_h.shape, order=1, mode = 'symmetric'))\n",
    "\n",
    "        # Calculate PSNR for bicubic\n",
    "        diff = im_l - im_h\n",
    "        rmse_b = np.sqrt((diff**2).mean())\n",
    "        psnr_b = 20*np.log10(im_h.max()/rmse_b)\n",
    "\n",
    "\n",
    "        # Calculate PSNR for SR\n",
    "        diff = output_2 - im_h\n",
    "        rmse_s = np.sqrt((diff**2).mean())\n",
    "        psnr_s = 20*np.log10(im_h.max()/rmse_s)\n",
    "\n",
    "        comp['psnr'].append(psnr_s-psnr_b)\n",
    "        comp['rmse'].append(rmse_s-rmse_b)\n",
    "\n",
    "        if save_pre:\n",
    "            # Save the resulting images as .nii files\n",
    "            os.makedirs(save_pre,exist_ok=True)\n",
    "            sr.save_image(f'{save_pre}/{sr.LR_files[idx].split(\"/\")[-1]}', output_2.numpy())\n"
   ]
  },
  {
   "cell_type": "code",
   "execution_count": 57,
   "metadata": {},
   "outputs": [
    {
     "data": {
      "text/plain": [
       "Text(0.5, 1.0, 'RMSE: SR - BiC')"
      ]
     },
     "execution_count": 57,
     "metadata": {},
     "output_type": "execute_result"
    },
    {
     "data": {
      "image/png": "[encoded data removed]",
      "text/plain": [
       "<Figure size 432x288 with 2 Axes>"
      ]
     },
     "metadata": {
      "needs_background": "light"
     },
     "output_type": "display_data"
    }
   ],
   "source": [
    "fig, axs = plt.subplots(1, 2)\n",
    "axs[0].hist([float(x) for x in comp['psnr']], bins=10)\n",
    "axs[0].set_title('PSNR: SR - BiC')\n",
    "axs[1].hist([float(x) for x in comp['rmse']], bins=10)\n",
    "axs[1].set_title('RMSE: SR - BiC')"
   ]
  },
  {
   "cell_type": "markdown",
   "metadata": {},
   "source": [
    "### Compare Slices from SR and HR image"
   ]
  },
  {
   "cell_type": "code",
   "execution_count": 62,
   "metadata": {},
   "outputs": [
    {
     "data": {
      "text/plain": [
       "Text(0.5, 1.0, 'Truth')"
      ]
     },
     "execution_count": 62,
     "metadata": {},
     "output_type": "execute_result"
    },
    {
     "data": {
      "image/png": "[encoded data removed]",
      "text/plain": [
       "<Figure size 432x288 with 2 Axes>"
      ]
     },
     "metadata": {
      "needs_background": "light"
     },
     "output_type": "display_data"
    }
   ],
   "source": [
    "fig, axs = plt.subplots(1, 2)\n",
    "axs[0].imshow(torch.squeeze(output_2[40,:,:],0))\n",
    "axs[0].set_title('Super Resolution')\n",
    "axs[1].imshow(sr.load_image(sr.HR_files[-1])[40,:,:])\n",
    "axs[1].set_title('Truth')"
   ]
  },
  {
   "cell_type": "markdown",
   "metadata": {},
   "source": [
    "## Conclusion\n",
    "\n",
    "There we have it! A nice version of the pipeline discussed using Pytorch!\n",
    "\n",
    "Potential directions for future development:\n",
    "- Determine how well the model works with different MRI collection parameters\n",
    "- Train it on other medical image types aside from MRI"
   ]
  }
 ],
 "metadata": {
  "kernelspec": {
   "display_name": "Python 3.8.7 64-bit ('3.8.7')",
   "language": "python",
   "name": "python3"
  },
  "language_info": {
   "codemirror_mode": {
    "name": "ipython",
    "version": 3
   },
   "file_extension": ".py",
   "mimetype": "text/x-python",
   "name": "python",
   "nbconvert_exporter": "python",
   "pygments_lexer": "ipython3",
   "version": "3.8.7"
  },
  "orig_nbformat": 4,
  "vscode": {
   "interpreter": {
    "hash": "539b544e2c3fdc58492248d082a132f5e0b4fea63e914fb274c32873997cf2f6"
   }
  }
 },
 "nbformat": 4,
 "nbformat_minor": 2
}

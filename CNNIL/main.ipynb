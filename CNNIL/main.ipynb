{
 "cells": [
  {
   "cell_type": "markdown",
   "metadata": {},
   "source": [
    "# Convolutional Neural Networks with Intermediate Loss for 3D Super-Resolution of CT and MRI Scans"
   ]
  },
  {
   "cell_type": "markdown",
   "metadata": {},
   "source": [
    "This notebook is a replication/exploration of the paper listed above."
   ]
  },
  {
   "cell_type": "code",
   "execution_count": 1,
   "metadata": {},
   "outputs": [],
   "source": [
    "import torch\n",
    "import torch.nn as nn\n",
    "import torch.nn.functional as F\n",
    "import os\n",
    "import numpy as np\n",
    "from ..gen_utils.sr_gen import sr_gen # Custom class for image generation"
   ]
  },
  {
   "cell_type": "markdown",
   "metadata": {},
   "source": [
    "## Define model"
   ]
  },
  {
   "cell_type": "code",
   "execution_count": null,
   "metadata": {},
   "outputs": [],
   "source": [
    "class CNNIL(nn.Module):\n",
    "    def __init__(self):\n",
    "        super().__init__()\n",
    "\n",
    "        self.conv1 = nn.Conv2d(1,32,3, bias=False)\n",
    "        self.conv2 = nn.Conv2d(32,32,3, bias=False)\n",
    "        self.conv3 = nn.Conv2d(32,32,3, bias=False)\n",
    "        self.conv4 = nn.Conv2d(32,32,3, bias=False)\n",
    "        self.conv5 = nn.Conv2d(32,32,3, bias=False)\n",
    "        self.conv6 = nn.Conv2d(32,4,3, bias=False)\n",
    "        \n",
    "        # Upscale step occurs here\n",
    "\n",
    "        self.conv7 = nn.Conv2d(1,32,3, bias=False)\n",
    "        self.conv8 = nn.Conv2d(32,32,3, bias=False)\n",
    "        self.conv9 = nn.Conv2d(32,32,3, bias=False)\n",
    "        self.conv10 = nn.Conv2d(32,1,3, bias = False)\n",
    "\n",
    "    def forward(self, x):\n",
    "\n",
    "        x = nn.ReLU(self.conv1(x))\n",
    "        \n",
    "        x_l = nn.ReLU(self.conv2(x_l))\n",
    "        x_l = nn.ReLU(self.conv3(x_l))\n",
    "        x_l = nn.ReLU(self.conv4(x_l+x))\n",
    "        x_l = nn.ReLU(self.conv5(x_l))\n",
    "        x_l = nn.ReLU(self.conv6(x_l+x))\n",
    "\n",
    "        x_l = self.kern_upscale(x_l)\n",
    "\n",
    "        x = nn.ReLU(self.conv7(x_l))\n",
    "        x_h = nn.ReLU(self.conv8(x_h))\n",
    "        x_h = nn.ReLU(self.conv9(x_h))\n",
    "        x_h = nn.ReLU(self.conv10(x_h+x))\n",
    "\n",
    "        return x_l, x_h #Return both results for the loss function\n",
    "\n",
    "\n",
    "    def kern_upscale(x):\n",
    "        # Function to do the unique upscaling pattern they propose in\n",
    "        # the paper\n",
    "        #TODO: There is going to be issues with dimensions here...\n",
    "        s, c, h, w = x.shape\n",
    "\n",
    "        x_up = torch.cat(torch.unbind(x),1)\n",
    "        x_up = torch.transpose(torch.reshape(x_up,(h*c/2, w*c/2)),0,1)\n",
    "        x_up = torch.cat(torch.split(x_up,2,1),2)\n",
    "        x_up = torch.transpose(torch.reshape(x_up,(h*c/2, w*c/2)), 1,2)\n",
    "\n",
    "        return x_up\n"
   ]
  },
  {
   "cell_type": "code",
   "execution_count": 54,
   "metadata": {},
   "outputs": [
    {
     "data": {
      "text/plain": [
       "torch.Size([4, 2, 2])"
      ]
     },
     "execution_count": 54,
     "metadata": {},
     "output_type": "execute_result"
    }
   ],
   "source": [
    "# Testing of kern_upscale function\n",
    "\n",
    "a = torch.tensor([[[1,2],[3,4]],\n",
    "                [[5,6],[7,8]],\n",
    "                [[9,10],[11,12]],\n",
    "                [[13,14],[15,16]]])\n",
    "a.shape"
   ]
  },
  {
   "cell_type": "code",
   "execution_count": 55,
   "metadata": {},
   "outputs": [
    {
     "name": "stdout",
     "output_type": "stream",
     "text": [
      "torch.Size([4, 2, 2])\n",
      "torch.Size([2, 8])\n",
      "torch.Size([4, 4])\n"
     ]
    },
    {
     "data": {
      "text/plain": [
       "tensor([[ 1,  5,  2,  6],\n",
       "        [ 9, 13, 10, 14],\n",
       "        [ 3,  7,  4,  8],\n",
       "        [11, 15, 12, 16]])"
      ]
     },
     "execution_count": 55,
     "metadata": {},
     "output_type": "execute_result"
    }
   ],
   "source": [
    "# Concatinate each of the layers next to eachother\n",
    "print(a.shape)\n",
    "b = torch.cat(torch.unbind(a),1)\n",
    "print(b.shape)\n",
    "b = torch.reshape(b,(4,4))\n",
    "print(b.shape)\n",
    "b = torch.transpose(b,0,1)\n",
    "b = torch.cat(torch.split(b,2,0),1)\n",
    "torch.transpose(torch.reshape(b,(4,4)),0,1)"
   ]
  },
  {
   "cell_type": "markdown",
   "metadata": {},
   "source": [
    "## Set Optimization Parameters"
   ]
  },
  {
   "cell_type": "code",
   "execution_count": null,
   "metadata": {},
   "outputs": [],
   "source": [
    "net = CNNIL()\n",
    "\n",
    "# They have a custom loss function that incorporates the final results and the result\n",
    "# right after the upscaling step\n",
    "# https://discuss.pytorch.org/t/custom-loss-functions/29387"
   ]
  },
  {
   "cell_type": "markdown",
   "metadata": {},
   "source": [
    "## Generate Data for Training"
   ]
  },
  {
   "cell_type": "code",
   "execution_count": null,
   "metadata": {},
   "outputs": [],
   "source": []
  }
 ],
 "metadata": {
  "kernelspec": {
   "display_name": "Python 3.8.7 64-bit ('3.8.7')",
   "language": "python",
   "name": "python3"
  },
  "language_info": {
   "codemirror_mode": {
    "name": "ipython",
    "version": 3
   },
   "file_extension": ".py",
   "mimetype": "text/x-python",
   "name": "python",
   "nbconvert_exporter": "python",
   "pygments_lexer": "ipython3",
   "version": "3.8.7"
  },
  "orig_nbformat": 4,
  "vscode": {
   "interpreter": {
    "hash": "539b544e2c3fdc58492248d082a132f5e0b4fea63e914fb274c32873997cf2f6"
   }
  }
 },
 "nbformat": 4,
 "nbformat_minor": 2
}
